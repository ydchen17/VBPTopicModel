{
 "cells": [
  {
   "cell_type": "code",
   "execution_count": 3,
   "metadata": {},
   "outputs": [],
   "source": [
    "import pandas as pd\n",
    "from tqdm import tqdm\n",
    "import openai\n",
    "tqdm.pandas()"
   ]
  },
  {
   "cell_type": "code",
   "execution_count": 4,
   "metadata": {},
   "outputs": [],
   "source": [
    "data = pd.read_excel(\"topic_df.xlsx\")"
   ]
  },
  {
   "cell_type": "code",
   "execution_count": null,
   "metadata": {},
   "outputs": [],
   "source": [
    "OPENAI_API = \"YOUR_OPENAI_API\"\n",
    "client = openai.OpenAI(api_key=OPENAI_API)"
   ]
  },
  {
   "cell_type": "code",
   "execution_count": 6,
   "metadata": {},
   "outputs": [
    {
     "data": {
      "text/plain": [
       "0        微博官方认证\n",
       "1        微博个人认证\n",
       "2        微博个人认证\n",
       "3           NaN\n",
       "4        微博个人认证\n",
       "          ...  \n",
       "37509       NaN\n",
       "37510       NaN\n",
       "37511    微博个人认证\n",
       "37512       NaN\n",
       "37513       NaN\n",
       "Name: author_type, Length: 37514, dtype: object"
      ]
     },
     "execution_count": 6,
     "metadata": {},
     "output_type": "execute_result"
    }
   ],
   "source": [
    "data['author_type']"
   ]
  },
  {
   "cell_type": "code",
   "execution_count": 7,
   "metadata": {},
   "outputs": [
    {
     "data": {
      "text/html": [
       "<div>\n",
       "<style scoped>\n",
       "    .dataframe tbody tr th:only-of-type {\n",
       "        vertical-align: middle;\n",
       "    }\n",
       "\n",
       "    .dataframe tbody tr th {\n",
       "        vertical-align: top;\n",
       "    }\n",
       "\n",
       "    .dataframe thead th {\n",
       "        text-align: right;\n",
       "    }\n",
       "</style>\n",
       "<table border=\"1\" class=\"dataframe\">\n",
       "  <thead>\n",
       "    <tr style=\"text-align: right;\">\n",
       "      <th></th>\n",
       "      <th>author_id</th>\n",
       "      <th>author</th>\n",
       "      <th>author_type</th>\n",
       "      <th>content</th>\n",
       "      <th>content_url</th>\n",
       "      <th>date</th>\n",
       "      <th>source</th>\n",
       "      <th>repost</th>\n",
       "      <th>comments</th>\n",
       "      <th>likes</th>\n",
       "      <th>chain_author</th>\n",
       "      <th>content_len</th>\n",
       "      <th>position</th>\n",
       "      <th>index_in_chain</th>\n",
       "      <th>previous_author</th>\n",
       "      <th>previous_content</th>\n",
       "    </tr>\n",
       "  </thead>\n",
       "  <tbody>\n",
       "    <tr>\n",
       "      <th>0</th>\n",
       "      <td>1.191965e+09</td>\n",
       "      <td>三联生活周刊</td>\n",
       "      <td>微博官方认证</td>\n",
       "      <td>【#进口药退出公立医院# 】2024年12月30日，距离开标日18天后，第十批国家药品集中采...</td>\n",
       "      <td>https://weibo.com/1191965271/P9pjHs3Y8?refer_f...</td>\n",
       "      <td>2025-01-13 18:30:00</td>\n",
       "      <td>NaN</td>\n",
       "      <td>21850.0</td>\n",
       "      <td>4442.0</td>\n",
       "      <td>9699.0</td>\n",
       "      <td>三联生活周刊</td>\n",
       "      <td>245</td>\n",
       "      <td>start</td>\n",
       "      <td>0</td>\n",
       "      <td>NaN</td>\n",
       "      <td>NaN</td>\n",
       "    </tr>\n",
       "    <tr>\n",
       "      <th>9</th>\n",
       "      <td>1.663937e+09</td>\n",
       "      <td>财新网</td>\n",
       "      <td>微博官方认证</td>\n",
       "      <td>【集采再震荡：#几分钱一片的仿制药是喜是忧#？】2024年12月13日，第十批国家组织药品集...</td>\n",
       "      <td>https://weibo.com/1663937380/Paa2wlL7I?refer_f...</td>\n",
       "      <td>2025-01-18 17:27:00</td>\n",
       "      <td>微博网页版</td>\n",
       "      <td>2017.0</td>\n",
       "      <td>166.0</td>\n",
       "      <td>3105.0</td>\n",
       "      <td>财新网</td>\n",
       "      <td>1106</td>\n",
       "      <td>start</td>\n",
       "      <td>0</td>\n",
       "      <td>NaN</td>\n",
       "      <td>NaN</td>\n",
       "    </tr>\n",
       "    <tr>\n",
       "      <th>24</th>\n",
       "      <td>1.663937e+09</td>\n",
       "      <td>财新网</td>\n",
       "      <td>微博官方认证</td>\n",
       "      <td>【#一企业回应仿制药数据造假#：系药监上传数据错误，已更新】关于集采药的争议不断升温，社交平...</td>\n",
       "      <td>https://weibo.com/1663937380/Pb4pkm1x7?refer_f...</td>\n",
       "      <td>2025-01-24 16:57:00</td>\n",
       "      <td>微博网页版</td>\n",
       "      <td>1314.0</td>\n",
       "      <td>200.0</td>\n",
       "      <td>4266.0</td>\n",
       "      <td>财新网</td>\n",
       "      <td>384</td>\n",
       "      <td>start</td>\n",
       "      <td>0</td>\n",
       "      <td>NaN</td>\n",
       "      <td>NaN</td>\n",
       "    </tr>\n",
       "    <tr>\n",
       "      <th>27</th>\n",
       "      <td>1.926910e+09</td>\n",
       "      <td>第一财经日报</td>\n",
       "      <td>微博官方认证</td>\n",
       "      <td>#医保局回应政协委员关注集采药疗效#【#京沪政协委员关注集采药疗效#，国家医保局：欢迎医务人...</td>\n",
       "      <td>https://weibo.com/1926909715/PagLaznKZ?refer_f...</td>\n",
       "      <td>2025-01-19 10:33:00</td>\n",
       "      <td>NaN</td>\n",
       "      <td>1246.0</td>\n",
       "      <td>830.0</td>\n",
       "      <td>8712.0</td>\n",
       "      <td>第一财经日报</td>\n",
       "      <td>288</td>\n",
       "      <td>start</td>\n",
       "      <td>0</td>\n",
       "      <td>NaN</td>\n",
       "      <td>NaN</td>\n",
       "    </tr>\n",
       "    <tr>\n",
       "      <th>37</th>\n",
       "      <td>1.663937e+09</td>\n",
       "      <td>财新网</td>\n",
       "      <td>微博官方认证</td>\n",
       "      <td>【“麻药不睡、血压不降、泻药不泻” #上海政协委员忧心集采药物疗效不稳#】2025年上海两会...</td>\n",
       "      <td>https://weibo.com/1663937380/PaamW8t0m?refer_f...</td>\n",
       "      <td>2025-01-18 18:17:00</td>\n",
       "      <td>微博网页版</td>\n",
       "      <td>785.0</td>\n",
       "      <td>270.0</td>\n",
       "      <td>3008.0</td>\n",
       "      <td>财新网</td>\n",
       "      <td>680</td>\n",
       "      <td>start</td>\n",
       "      <td>0</td>\n",
       "      <td>NaN</td>\n",
       "      <td>NaN</td>\n",
       "    </tr>\n",
       "    <tr>\n",
       "      <th>...</th>\n",
       "      <td>...</td>\n",
       "      <td>...</td>\n",
       "      <td>...</td>\n",
       "      <td>...</td>\n",
       "      <td>...</td>\n",
       "      <td>...</td>\n",
       "      <td>...</td>\n",
       "      <td>...</td>\n",
       "      <td>...</td>\n",
       "      <td>...</td>\n",
       "      <td>...</td>\n",
       "      <td>...</td>\n",
       "      <td>...</td>\n",
       "      <td>...</td>\n",
       "      <td>...</td>\n",
       "      <td>...</td>\n",
       "    </tr>\n",
       "    <tr>\n",
       "      <th>37474</th>\n",
       "      <td>6.153839e+09</td>\n",
       "      <td>跑合网</td>\n",
       "      <td>微博官方认证</td>\n",
       "      <td>发布了头条文章：《周报： 市场依旧低迷，中药集采倒逼原料和成药价格双降！》  O周报： 市场...</td>\n",
       "      <td>https://weibo.com/6153839096/P7PUSrAIO?refer_f...</td>\n",
       "      <td>2025-01-03 10:32:00</td>\n",
       "      <td>微博 weibo.com</td>\n",
       "      <td>0.0</td>\n",
       "      <td>0.0</td>\n",
       "      <td>0.0</td>\n",
       "      <td>跑合网</td>\n",
       "      <td>53</td>\n",
       "      <td>start</td>\n",
       "      <td>0</td>\n",
       "      <td>NaN</td>\n",
       "      <td>NaN</td>\n",
       "    </tr>\n",
       "    <tr>\n",
       "      <th>37475</th>\n",
       "      <td>1.830136e+09</td>\n",
       "      <td>江海晚报</td>\n",
       "      <td>微博官方认证</td>\n",
       "      <td>【大利好！南通已有人享受到】1日起，江苏率先开展的无创产前基因检测服务集采结果在南通落地，与...</td>\n",
       "      <td>https://weibo.com/1830136467/P7PU1o4nu?refer_f...</td>\n",
       "      <td>2025-01-03 10:30:00</td>\n",
       "      <td>微博网页版</td>\n",
       "      <td>0.0</td>\n",
       "      <td>0.0</td>\n",
       "      <td>0.0</td>\n",
       "      <td>江海晚报</td>\n",
       "      <td>128</td>\n",
       "      <td>start</td>\n",
       "      <td>0</td>\n",
       "      <td>NaN</td>\n",
       "      <td>NaN</td>\n",
       "    </tr>\n",
       "    <tr>\n",
       "      <th>37477</th>\n",
       "      <td>6.352579e+09</td>\n",
       "      <td>全球财说GF</td>\n",
       "      <td>微博官方认证</td>\n",
       "      <td>#上市公司晚间公告# 中恒集团：控股子公司产品拟中选全国中成药采购联盟集采。 ​</td>\n",
       "      <td>https://weibo.com/6352578800/P7CyDcpVL?refer_f...</td>\n",
       "      <td>2025-01-02 00:32:00</td>\n",
       "      <td>iPhone 13 Pro</td>\n",
       "      <td>0.0</td>\n",
       "      <td>0.0</td>\n",
       "      <td>1.0</td>\n",
       "      <td>全球财说GF</td>\n",
       "      <td>33</td>\n",
       "      <td>start</td>\n",
       "      <td>0</td>\n",
       "      <td>NaN</td>\n",
       "      <td>NaN</td>\n",
       "    </tr>\n",
       "    <tr>\n",
       "      <th>37479</th>\n",
       "      <td>6.011309e+09</td>\n",
       "      <td>健识局</td>\n",
       "      <td>微博官方认证</td>\n",
       "      <td>印度只要2分钱！3分一片的集采药，成本是多少？#集采##仿制药# L健识局的微博视频 ​</td>\n",
       "      <td>https://weibo.com/6011309186/P7JzZexxz?refer_f...</td>\n",
       "      <td>2025-01-02 18:24:00</td>\n",
       "      <td>微博视频号</td>\n",
       "      <td>0.0</td>\n",
       "      <td>0.0</td>\n",
       "      <td>0.0</td>\n",
       "      <td>健识局</td>\n",
       "      <td>31</td>\n",
       "      <td>start</td>\n",
       "      <td>0</td>\n",
       "      <td>NaN</td>\n",
       "      <td>NaN</td>\n",
       "    </tr>\n",
       "    <tr>\n",
       "      <th>37498</th>\n",
       "      <td>7.268478e+09</td>\n",
       "      <td>空港硕放</td>\n",
       "      <td>微博官方认证</td>\n",
       "      <td>【费用大降！落地无锡】为进一步减轻孕检费用负担，推进建设生育友好型社会，无创产前基因检测集采...</td>\n",
       "      <td>https://weibo.com/7268477884/P7ItLjGXD?refer_f...</td>\n",
       "      <td>2025-01-02 15:36:00</td>\n",
       "      <td>微博网页版</td>\n",
       "      <td>0.0</td>\n",
       "      <td>0.0</td>\n",
       "      <td>0.0</td>\n",
       "      <td>空港硕放</td>\n",
       "      <td>98</td>\n",
       "      <td>start</td>\n",
       "      <td>0</td>\n",
       "      <td>NaN</td>\n",
       "      <td>NaN</td>\n",
       "    </tr>\n",
       "  </tbody>\n",
       "</table>\n",
       "<p>1647 rows × 16 columns</p>\n",
       "</div>"
      ],
      "text/plain": [
       "          author_id  author author_type  \\\n",
       "0      1.191965e+09  三联生活周刊      微博官方认证   \n",
       "9      1.663937e+09     财新网      微博官方认证   \n",
       "24     1.663937e+09     财新网      微博官方认证   \n",
       "27     1.926910e+09  第一财经日报      微博官方认证   \n",
       "37     1.663937e+09     财新网      微博官方认证   \n",
       "...             ...     ...         ...   \n",
       "37474  6.153839e+09     跑合网      微博官方认证   \n",
       "37475  1.830136e+09    江海晚报      微博官方认证   \n",
       "37477  6.352579e+09  全球财说GF      微博官方认证   \n",
       "37479  6.011309e+09     健识局      微博官方认证   \n",
       "37498  7.268478e+09    空港硕放      微博官方认证   \n",
       "\n",
       "                                                 content  \\\n",
       "0      【#进口药退出公立医院# 】2024年12月30日，距离开标日18天后，第十批国家药品集中采...   \n",
       "9      【集采再震荡：#几分钱一片的仿制药是喜是忧#？】2024年12月13日，第十批国家组织药品集...   \n",
       "24     【#一企业回应仿制药数据造假#：系药监上传数据错误，已更新】关于集采药的争议不断升温，社交平...   \n",
       "27     #医保局回应政协委员关注集采药疗效#【#京沪政协委员关注集采药疗效#，国家医保局：欢迎医务人...   \n",
       "37     【“麻药不睡、血压不降、泻药不泻” #上海政协委员忧心集采药物疗效不稳#】2025年上海两会...   \n",
       "...                                                  ...   \n",
       "37474  发布了头条文章：《周报： 市场依旧低迷，中药集采倒逼原料和成药价格双降！》  O周报： 市场...   \n",
       "37475  【大利好！南通已有人享受到】1日起，江苏率先开展的无创产前基因检测服务集采结果在南通落地，与...   \n",
       "37477           #上市公司晚间公告# 中恒集团：控股子公司产品拟中选全国中成药采购联盟集采。 ​   \n",
       "37479       印度只要2分钱！3分一片的集采药，成本是多少？#集采##仿制药# L健识局的微博视频 ​   \n",
       "37498  【费用大降！落地无锡】为进一步减轻孕检费用负担，推进建设生育友好型社会，无创产前基因检测集采...   \n",
       "\n",
       "                                             content_url                date  \\\n",
       "0      https://weibo.com/1191965271/P9pjHs3Y8?refer_f... 2025-01-13 18:30:00   \n",
       "9      https://weibo.com/1663937380/Paa2wlL7I?refer_f... 2025-01-18 17:27:00   \n",
       "24     https://weibo.com/1663937380/Pb4pkm1x7?refer_f... 2025-01-24 16:57:00   \n",
       "27     https://weibo.com/1926909715/PagLaznKZ?refer_f... 2025-01-19 10:33:00   \n",
       "37     https://weibo.com/1663937380/PaamW8t0m?refer_f... 2025-01-18 18:17:00   \n",
       "...                                                  ...                 ...   \n",
       "37474  https://weibo.com/6153839096/P7PUSrAIO?refer_f... 2025-01-03 10:32:00   \n",
       "37475  https://weibo.com/1830136467/P7PU1o4nu?refer_f... 2025-01-03 10:30:00   \n",
       "37477  https://weibo.com/6352578800/P7CyDcpVL?refer_f... 2025-01-02 00:32:00   \n",
       "37479  https://weibo.com/6011309186/P7JzZexxz?refer_f... 2025-01-02 18:24:00   \n",
       "37498  https://weibo.com/7268477884/P7ItLjGXD?refer_f... 2025-01-02 15:36:00   \n",
       "\n",
       "              source   repost  comments   likes chain_author  content_len  \\\n",
       "0                NaN  21850.0    4442.0  9699.0       三联生活周刊          245   \n",
       "9              微博网页版   2017.0     166.0  3105.0          财新网         1106   \n",
       "24             微博网页版   1314.0     200.0  4266.0          财新网          384   \n",
       "27               NaN   1246.0     830.0  8712.0       第一财经日报          288   \n",
       "37             微博网页版    785.0     270.0  3008.0          财新网          680   \n",
       "...              ...      ...       ...     ...          ...          ...   \n",
       "37474   微博 weibo.com      0.0       0.0     0.0          跑合网           53   \n",
       "37475          微博网页版      0.0       0.0     0.0         江海晚报          128   \n",
       "37477  iPhone 13 Pro      0.0       0.0     1.0       全球财说GF           33   \n",
       "37479          微博视频号      0.0       0.0     0.0          健识局           31   \n",
       "37498          微博网页版      0.0       0.0     0.0         空港硕放           98   \n",
       "\n",
       "      position  index_in_chain previous_author previous_content  \n",
       "0        start               0             NaN              NaN  \n",
       "9        start               0             NaN              NaN  \n",
       "24       start               0             NaN              NaN  \n",
       "27       start               0             NaN              NaN  \n",
       "37       start               0             NaN              NaN  \n",
       "...        ...             ...             ...              ...  \n",
       "37474    start               0             NaN              NaN  \n",
       "37475    start               0             NaN              NaN  \n",
       "37477    start               0             NaN              NaN  \n",
       "37479    start               0             NaN              NaN  \n",
       "37498    start               0             NaN              NaN  \n",
       "\n",
       "[1647 rows x 16 columns]"
      ]
     },
     "execution_count": 7,
     "metadata": {},
     "output_type": "execute_result"
    }
   ],
   "source": [
    "data[data['author_type'] == '微博官方认证']"
   ]
  },
  {
   "cell_type": "code",
   "execution_count": 8,
   "metadata": {},
   "outputs": [
    {
     "name": "stderr",
     "output_type": "stream",
     "text": [
      "                                   \r"
     ]
    }
   ],
   "source": [
    "import hanlp\n",
    "tok = hanlp.load(hanlp.pretrained.tok.COARSE_ELECTRA_SMALL_ZH)\n",
    "tok.dict_force = {'原研药', '中成药', '小红书', '集采'}\n",
    "\n",
    "def preprocess_text(text):\n",
    "    if pd.isna(text):\n",
    "        return None\n",
    "    if len(text) == 0:\n",
    "        return None\n",
    "    tokens = tok(text)\n",
    "    return ' '.join(tokens)"
   ]
  },
  {
   "cell_type": "code",
   "execution_count": 9,
   "metadata": {},
   "outputs": [
    {
     "name": "stderr",
     "output_type": "stream",
     "text": [
      "100%|██████████| 34597/34597 [13:45<00:00, 41.93it/s]  \n"
     ]
    }
   ],
   "source": [
    "data = data[data.content_len  > 5]\n",
    "data['content'] = data['content'].astype(\"str\")\n",
    "data['content_seg'] = data['content'].progress_apply(preprocess_text)"
   ]
  },
  {
   "cell_type": "code",
   "execution_count": 10,
   "metadata": {},
   "outputs": [
    {
     "data": {
      "text/plain": [
       "0        【 # 进口 药 退出 公立 医院 # 】 2024年12月30日 ， 距离 开标日 18天...\n",
       "1        财新 的 报道 —— 上海 20名 政协 委员 联名 提案 ： 集采 之下 的 国产 仿制药...\n",
       "2        “ 血压 不 降 、 麻醉 不 睡 、 泻药 不 泻 ” ， 瑞金医院 副 院长 郑民华 等...\n",
       "3        推 上 看到 的 : 在 日本人 写 的 ABO 小说 里 ， 大体上 ， 抑制剂 费用 总...\n",
       "4        这 两天 ， 北京 和 上海政协 委员 纷纷 提案 ， 希望 国家 关注 集采 药 效果 不...\n",
       "                               ...                        \n",
       "37509    医药 由于 集采 ， 还 在 下行 通道 ， 要 极致 耐心 ， 等到 极为 便宜 ， 才是...\n",
       "37510    医院 集采 了 中药 注射液 ， 中成药 先 说 中药 注射液 ， 本质 不是 中药 ， 是...\n",
       "37511    行业 财经 要闻 1 . 我国 首部 能源 法 正式 施行 2025年 将 新增 风电 光 ...\n",
       "37512    转 ： 医药 集采 之后 ， 商业 保险公司 的 “ 百万 医疗 ” 就 基本上 失去 存在...\n",
       "37513    外公 吃 国产 抗生素 吃 了 一个月 不见 好转 拖 成 肺部 感染 ， 被 救护车 送进...\n",
       "Name: content_seg, Length: 34597, dtype: object"
      ]
     },
     "execution_count": 10,
     "metadata": {},
     "output_type": "execute_result"
    }
   ],
   "source": [
    "data['content_seg']"
   ]
  },
  {
   "cell_type": "code",
   "execution_count": 11,
   "metadata": {},
   "outputs": [
    {
     "data": {
      "application/vnd.jupyter.widget-view+json": {
       "model_id": "77b3a3a9f7674181a5ae36a18c2166e4",
       "version_major": 2,
       "version_minor": 0
      },
      "text/plain": [
       "README.md:   0%|          | 0.00/3.90k [00:00<?, ?B/s]"
      ]
     },
     "metadata": {},
     "output_type": "display_data"
    }
   ],
   "source": [
    "from sentence_transformers import SentenceTransformer\n",
    "embedding_model = SentenceTransformer(\"paraphrase-multilingual-mpnet-base-v2\")\n",
    "\n",
    "#from bertopic.backend import OpenAIBackend\n",
    "#embedding_model = OpenAIBackend(client, \"text-embedding-3-small\")\n",
    "\n",
    "#from transformers.pipelines import pipeline\n",
    "#embedding_model = pipeline(\"feature-extraction\", model=\"BAAI/bge-m3\")\n",
    "\n",
    "#embeddings = embedding_model.encode(data['content_seg'].tolist(), show_progress_bar=True)"
   ]
  },
  {
   "cell_type": "code",
   "execution_count": 12,
   "metadata": {},
   "outputs": [],
   "source": [
    "from umap import UMAP\n",
    "umap_model = UMAP(n_neighbors=15, n_components=5, min_dist=0.0, metric='cosine', random_state=42)"
   ]
  },
  {
   "cell_type": "code",
   "execution_count": 13,
   "metadata": {},
   "outputs": [],
   "source": [
    "from hdbscan import HDBSCAN\n",
    "hdbscan_model = HDBSCAN(min_cluster_size=200, metric='euclidean', cluster_selection_method='eom', prediction_data=True)"
   ]
  },
  {
   "cell_type": "code",
   "execution_count": 14,
   "metadata": {},
   "outputs": [],
   "source": [
    "from sklearn.feature_extraction.text import CountVectorizer\n",
    "# 读取停用词\n",
    "with open('stop_words.txt', 'r', encoding='utf-8') as f:\n",
    "    stop_words = set(line.strip() for line in f if line.strip())\n",
    "\n",
    "vectorizer_model = CountVectorizer(\n",
    "    stop_words=list(stop_words),analyzer='word', \n",
    "    token_pattern=u\"(?u)\\\\b\\\\w+\\\\b\",\n",
    "    min_df=2, ngram_range=(1, 1))"
   ]
  },
  {
   "cell_type": "code",
   "execution_count": 15,
   "metadata": {},
   "outputs": [],
   "source": [
    "import openai\n",
    "from bertopic.representation import KeyBERTInspired, MaximalMarginalRelevance, OpenAI, PartOfSpeech\n",
    "\n",
    "# KeyBERT\n",
    "keybert_model = KeyBERTInspired()\n",
    "\n",
    "# MMR\n",
    "mmr_model = MaximalMarginalRelevance(diversity=0.3)\n",
    "\n",
    "# GPT-3.5\n",
    "prompt = \"\"\"\n",
    "我有一个主题，其中包含以下文档：\n",
    "[DOCUMENTS]\n",
    "该主题由以下关键词描述：[KEYWORDS]\n",
    "\n",
    "根据上述信息，提取一个简短但高度描述性、六个单词以内的英文语句。确保格式如下：\n",
    "topic: <主题>...\n",
    "\"\"\"\n",
    "openai_model = OpenAI(client, model=\"gpt-3.5-turbo\", exponential_backoff=True, chat=True, prompt=prompt)\n",
    "\n",
    "# All representation models\n",
    "representation_model = {\n",
    "    \"KeyBERT\": keybert_model,\n",
    "    \"OpenAI\": openai_model,  # Uncomment if you will use OpenAI\n",
    "    \"MMR\": mmr_model,\n",
    "}\n"
   ]
  },
  {
   "cell_type": "code",
   "execution_count": 16,
   "metadata": {},
   "outputs": [
    {
     "data": {
      "application/vnd.jupyter.widget-view+json": {
       "model_id": "7db0b8b9677541d1aacefe395144651c",
       "version_major": 2,
       "version_minor": 0
      },
      "text/plain": [
       "Batches:   0%|          | 0/1082 [00:00<?, ?it/s]"
      ]
     },
     "metadata": {},
     "output_type": "display_data"
    }
   ],
   "source": [
    "embeddings = embedding_model.encode(data['content_seg'].tolist(), show_progress_bar=True)"
   ]
  },
  {
   "cell_type": "code",
   "execution_count": 17,
   "metadata": {},
   "outputs": [
    {
     "name": "stderr",
     "output_type": "stream",
     "text": [
      "2025-03-06 22:08:44,188 - BERTopic - Dimensionality - Fitting the dimensionality reduction algorithm\n",
      "2025-03-06 22:09:47,572 - BERTopic - Dimensionality - Completed ✓\n",
      "2025-03-06 22:09:47,574 - BERTopic - Cluster - Start clustering the reduced embeddings\n",
      "2025-03-06 22:09:52,578 - BERTopic - Cluster - Completed ✓\n",
      "2025-03-06 22:09:52,588 - BERTopic - Representation - Extracting topics from clusters using representation models.\n",
      "100%|██████████| 15/15 [00:09<00:00,  1.64it/s]\n",
      "2025-03-06 22:10:10,081 - BERTopic - Representation - Completed ✓\n"
     ]
    },
    {
     "data": {
      "text/html": [
       "<div>\n",
       "<style scoped>\n",
       "    .dataframe tbody tr th:only-of-type {\n",
       "        vertical-align: middle;\n",
       "    }\n",
       "\n",
       "    .dataframe tbody tr th {\n",
       "        vertical-align: top;\n",
       "    }\n",
       "\n",
       "    .dataframe thead th {\n",
       "        text-align: right;\n",
       "    }\n",
       "</style>\n",
       "<table border=\"1\" class=\"dataframe\">\n",
       "  <thead>\n",
       "    <tr style=\"text-align: right;\">\n",
       "      <th></th>\n",
       "      <th>Topic</th>\n",
       "      <th>Count</th>\n",
       "      <th>Name</th>\n",
       "      <th>Representation</th>\n",
       "      <th>KeyBERT</th>\n",
       "      <th>OpenAI</th>\n",
       "      <th>MMR</th>\n",
       "      <th>Representative_Docs</th>\n",
       "    </tr>\n",
       "  </thead>\n",
       "  <tbody>\n",
       "    <tr>\n",
       "      <th>0</th>\n",
       "      <td>-1</td>\n",
       "      <td>9143</td>\n",
       "      <td>-1_集采_药_说_药品</td>\n",
       "      <td>[集采, 药, 说, 药品, 原研药, 医院, 医生, 医保, 仿制药, 质量]</td>\n",
       "      <td>[国家医保局, 医保局, 医药, 原研药, 药效, 药企, 国产, 药, 三联生活周刊, 药物]</td>\n",
       "      <td>[Pharmaceutical procurement quality risk inves...</td>\n",
       "      <td>[药品, 医保, 仿制药, 数据, 医药, 医疗, 进口, 行业, 国家医保局, 临床]</td>\n",
       "      <td>[【 针对 某些 集采 药品 可能 存在 质量 风险 等 问题 国家医保局 牵头 调查 】 ...</td>\n",
       "    </tr>\n",
       "    <tr>\n",
       "      <th>1</th>\n",
       "      <td>0</td>\n",
       "      <td>14685</td>\n",
       "      <td>0_集采_药_药品_质量</td>\n",
       "      <td>[集采, 药, 药品, 质量, 医生, 医保, 说, 原研药, 仿制药, 价格]</td>\n",
       "      <td>[国家医保局, 医保局, 国产, 药效, 原研药, 医药, 麻药, 中药, 药, 政协]</td>\n",
       "      <td>[Drug procurement quality assurance...]</td>\n",
       "      <td>[医保, 原研药, 仿制药, 医疗, 国家医保局, 临床, 医药, 进口, 药企, 产品]</td>\n",
       "      <td>[# 调查 集采 药品 可能 存在 的 质量 风险 问题 # 【 针对 某些 集采 药品 可...</td>\n",
       "    </tr>\n",
       "    <tr>\n",
       "      <th>2</th>\n",
       "      <td>1</td>\n",
       "      <td>1945</td>\n",
       "      <td>1_铺展_上班_级别_指标</td>\n",
       "      <td>[铺展, 上班, 级别, 指标, 受, 影响, 干部, 医院, 药品, 集采]</td>\n",
       "      <td>[医院, 药品, 级别, 上班, 受, 指标, 集采, 真理, 朴素, 铺展]</td>\n",
       "      <td>[Hospital working level not affected.]</td>\n",
       "      <td>[上班, 级别, 指标, 影响, 干部, 医院, 药品, 集采, chsnwwii, 真理]</td>\n",
       "      <td>[我 在 医院 上班 回答 你 ： 不能 ， 没有 这个 指标 ， 但是 干部 级别 的 不...</td>\n",
       "    </tr>\n",
       "    <tr>\n",
       "      <th>3</th>\n",
       "      <td>2</td>\n",
       "      <td>1557</td>\n",
       "      <td>2_解决_质量_集采_垃圾</td>\n",
       "      <td>[解决, 质量, 集采, 垃圾, l, 三, 点, 保证, 支持, 制度]</td>\n",
       "      <td>[质量, 集采, 垃圾, 解决, 制度, 三, 点, 价格, l, 支持]</td>\n",
       "      <td>[Quality issues in group procurement...]</td>\n",
       "      <td>[解决, 质量, 集采, 垃圾, l, 三, 保证, 支持, 制度, 价格]</td>\n",
       "      <td>[集采 有 质量 问题 如何 解决 ？, 集采 有 质量 问题 如何 解决 ？, 集采 有 ...</td>\n",
       "    </tr>\n",
       "    <tr>\n",
       "      <th>4</th>\n",
       "      <td>3</td>\n",
       "      <td>1552</td>\n",
       "      <td>3_自费_免疫药_关心_靶向药</td>\n",
       "      <td>[自费, 免疫药, 关心, 靶向药, 癌症, 买, 开, 患者, 原研药, 靶向]</td>\n",
       "      <td>[癌症, 免疫药, 靶向药, 药业, 免疫, 药, 自费, 原研药, 买, 患者]</td>\n",
       "      <td>[Self-pay options for cancer patients...]</td>\n",
       "      <td>[免疫药, 癌症, 患者, 原研药, inmo, 数据中心, 养老, 业务, 孕产妇, 陕西华达]</td>\n",
       "      <td>[癌症 患者 自费 能 开 一些 原研药 吗 ， 一些 免疫药 和 靶向药 能 自费 买 吗...</td>\n",
       "    </tr>\n",
       "    <tr>\n",
       "      <th>5</th>\n",
       "      <td>4</td>\n",
       "      <td>1551</td>\n",
       "      <td>4_抵达_边缘_这下_恐惧</td>\n",
       "      <td>[抵达, 边缘, 这下, 恐惧, 医护, 办法, 人员, 真的, 器械, 差]</td>\n",
       "      <td>[差, 难用, 恐慌, 恐惧, 医院, 风险, 医护, 太, 无聊, 这下]</td>\n",
       "      <td>[Reaching the edge of fear...]</td>\n",
       "      <td>[边缘, 恐惧, 医护, 差, 职业, 难用, 恐慌, 手套, 太, 无聊]</td>\n",
       "      <td>[这下 真的 抵达 恐惧 边缘 了 器械 质量 这么 差 医护 人员 也 没 办法 啊, 这...</td>\n",
       "    </tr>\n",
       "    <tr>\n",
       "      <th>6</th>\n",
       "      <td>5</td>\n",
       "      <td>1129</td>\n",
       "      <td>5_无聊_特么_洋抖_在意</td>\n",
       "      <td>[无聊, 特么, 洋抖, 在意, 小红书, 事, 幼稚, 照样, 美国人, 讨论]</td>\n",
       "      <td>[无聊, 在意, 小红书, 讨论, 事, 特么, 幼稚, 照样, 洋抖, 美国人]</td>\n",
       "      <td>[Boredom, obsession, cultural discussions, chi...</td>\n",
       "      <td>[无聊, 特么, 洋抖, 在意, 小红书, 事, 幼稚, 照样, 美国人, 讨论]</td>\n",
       "      <td>[比起 小红书 洋抖 那些 无聊 的 事 ， 我 特么 更 在意 这些 问题 。。。, 比起...</td>\n",
       "    </tr>\n",
       "    <tr>\n",
       "      <th>7</th>\n",
       "      <td>6</td>\n",
       "      <td>939</td>\n",
       "      <td>6_不配_活_干部_计较</td>\n",
       "      <td>[不配, 活, 干部, 计较, 畜生, 阶层, 说白了, 优秀, 怕, 领导]</td>\n",
       "      <td>[不配, 不用, 说白了, 计较, 畜生, 怕, 活, 领导, 死, 干部]</td>\n",
       "      <td>[Unworthy officials shouldn't be alive.]</td>\n",
       "      <td>[不配, 活, 干部, 畜生, 阶层, 说白了, 怕, 领导, 死, 需求]</td>\n",
       "      <td>[不是 干部 不配 活 着, 不是 干部 不配 活 着, 不是 干部 不配 活 着]</td>\n",
       "    </tr>\n",
       "    <tr>\n",
       "      <th>8</th>\n",
       "      <td>7</td>\n",
       "      <td>423</td>\n",
       "      <td>7_洋抖_在意_事_不错</td>\n",
       "      <td>[洋抖, 在意, 事, 不错, 稳定, 药效, 仿造, 正, 测, 药材]</td>\n",
       "      <td>[好多, 在意, 小红书, 事, 关心, 无聊, 一点, 情况, 屁话, 管用]</td>\n",
       "      <td>[Care about authentic medicine and quality.]</td>\n",
       "      <td>[在意, 稳定, 药效, 测, 药材, 中成药, 季节, 产地, 雨水, 博士]</td>\n",
       "      <td>[比起 红书 洋抖 那些 事 ， 我 更 在意 这些, 比起 红书 洋抖 那些 事 ， 我 ...</td>\n",
       "    </tr>\n",
       "    <tr>\n",
       "      <th>9</th>\n",
       "      <td>8</td>\n",
       "      <td>359</td>\n",
       "      <td>8_害怕_假_真_吓人</td>\n",
       "      <td>[害怕, 假, 真, 吓人, 走势, 眼中, 敢, 一点, 捧, 加]</td>\n",
       "      <td>[害怕, 吓人, 假, 真, 没, 敢, 一点, 眼中, 捧, 加]</td>\n",
       "      <td>[Fearful of real or fake...]</td>\n",
       "      <td>[害怕, 假, 吓人, 走势, 眼中, 敢, 一点, 医药股, 创新药, 没]</td>\n",
       "      <td>[真 的 假 的 …… 我 害怕, 真 的 假 的 …… 我 害怕, 真 的 假 的 …… ...</td>\n",
       "    </tr>\n",
       "    <tr>\n",
       "      <th>10</th>\n",
       "      <td>9</td>\n",
       "      <td>326</td>\n",
       "      <td>9_阿司匹林_企业_实验_成本</td>\n",
       "      <td>[阿司匹林, 企业, 实验, 成本, 中选, 肠溶片, 水杨酸, 药品, 生产, 中]</td>\n",
       "      <td>[阿司匹林, 京新药业, 阿司匹林肠, 阿司匹林肠溶片, 原料药, 仿制药, 中选药, 药物...</td>\n",
       "      <td>[Chemical teacher questions aspirin quality...]</td>\n",
       "      <td>[阿司匹林, 企业, 成本, 肠溶片, 药品, 3分钱, 阿司匹林肠, 质量, 仿制药, 药物]</td>\n",
       "      <td>[【 # 多 款 阿司匹林 被 化学 老师 点名 # ， # 化学 实验 能否 证明 阿司匹...</td>\n",
       "    </tr>\n",
       "    <tr>\n",
       "      <th>11</th>\n",
       "      <td>10</td>\n",
       "      <td>267</td>\n",
       "      <td>10_复诊_明天_抽_正好</td>\n",
       "      <td>[复诊, 明天, 抽, 正好, 血, 医院, 进口, 麻醉药, 转头, 十几年]</td>\n",
       "      <td>[复诊, 明天, 手术台, 抽血, 手术室, 一会儿, 医院, 医生, 剖腹产, 缺一不可]</td>\n",
       "      <td>[Blood test appointment tomorrow at hospital.]</td>\n",
       "      <td>[复诊, 明天, 医院, 麻醉药, 十几年, 药, 医生, 打针, 既得利益者, 抽血]</td>\n",
       "      <td>[………… 明天 正好 要 去 医院 抽 血 复诊, ………… 明天 正好 要 去 医院 抽...</td>\n",
       "    </tr>\n",
       "    <tr>\n",
       "      <th>12</th>\n",
       "      <td>11</td>\n",
       "      <td>244</td>\n",
       "      <td>11_机制_反对_评价_懂</td>\n",
       "      <td>[机制, 反对, 评价, 懂, 旗帜, 你好, 双手, 赞成, 绝大部分, 改进]</td>\n",
       "      <td>[反对, 赞成, 评价, 建议, 改进, 集采, 讨论, 药效, 懂, 监督]</td>\n",
       "      <td>[Opposition towards procurement system improve...</td>\n",
       "      <td>[反对, 评价, 旗帜, 改进, 监督, 网民, 制度, 药效, 集采, 上海]</td>\n",
       "      <td>[“ 绝大部分 人 都 欢迎 改进 集采 的 建议 ， 包括 定价 机制 、 药效 一致性 ...</td>\n",
       "    </tr>\n",
       "    <tr>\n",
       "      <th>13</th>\n",
       "      <td>12</td>\n",
       "      <td>243</td>\n",
       "      <td>12_引流_美国人_日本_公众</td>\n",
       "      <td>[引流, 美国人, 日本, 公众, 至少, 90, 讨论, 小红书, 医药, 集采]</td>\n",
       "      <td>[公众, 美国, 医药, 美国人, 讨论, 集采, 事情, 研究, 投入, 想]</td>\n",
       "      <td>[American influencer dominates Japanese medica...</td>\n",
       "      <td>[美国人, 日本, 公众, 90, 讨论, 医药, 现实, 投入, 研究, 美国]</td>\n",
       "      <td>[原来 日本 也 有 这种 引流 的 替罪羊 ， 小红书 的 美国人 最近 引流 了 至少 ...</td>\n",
       "    </tr>\n",
       "    <tr>\n",
       "      <th>14</th>\n",
       "      <td>13</td>\n",
       "      <td>234</td>\n",
       "      <td>13_自费_免疫_靶向药_癌症</td>\n",
       "      <td>[自费, 免疫, 靶向药, 癌症, 买, 开, 患者, 原研药, 药, 免疫药]</td>\n",
       "      <td>[癌症, 免疫药, 靶向药, 免疫, 药, 自费, 原研药, 买, 患者, 开]</td>\n",
       "      <td>[Self-paying for cancer immunotherapy drugs.]</td>\n",
       "      <td>[自费, 免疫, 靶向药, 癌症, 买, 患者, 原研药, 药, 免疫药, , , , , ...</td>\n",
       "      <td>[癌症 患者 自费 能 开 一些 原研药 吗 ， 一些 免疫 药 和 靶向药 能 自费 买 ...</td>\n",
       "    </tr>\n",
       "  </tbody>\n",
       "</table>\n",
       "</div>"
      ],
      "text/plain": [
       "    Topic  Count             Name  \\\n",
       "0      -1   9143     -1_集采_药_说_药品   \n",
       "1       0  14685     0_集采_药_药品_质量   \n",
       "2       1   1945    1_铺展_上班_级别_指标   \n",
       "3       2   1557    2_解决_质量_集采_垃圾   \n",
       "4       3   1552  3_自费_免疫药_关心_靶向药   \n",
       "5       4   1551    4_抵达_边缘_这下_恐惧   \n",
       "6       5   1129    5_无聊_特么_洋抖_在意   \n",
       "7       6    939     6_不配_活_干部_计较   \n",
       "8       7    423     7_洋抖_在意_事_不错   \n",
       "9       8    359      8_害怕_假_真_吓人   \n",
       "10      9    326  9_阿司匹林_企业_实验_成本   \n",
       "11     10    267    10_复诊_明天_抽_正好   \n",
       "12     11    244    11_机制_反对_评价_懂   \n",
       "13     12    243  12_引流_美国人_日本_公众   \n",
       "14     13    234  13_自费_免疫_靶向药_癌症   \n",
       "\n",
       "                                 Representation  \\\n",
       "0      [集采, 药, 说, 药品, 原研药, 医院, 医生, 医保, 仿制药, 质量]   \n",
       "1      [集采, 药, 药品, 质量, 医生, 医保, 说, 原研药, 仿制药, 价格]   \n",
       "2       [铺展, 上班, 级别, 指标, 受, 影响, 干部, 医院, 药品, 集采]   \n",
       "3         [解决, 质量, 集采, 垃圾, l, 三, 点, 保证, 支持, 制度]   \n",
       "4     [自费, 免疫药, 关心, 靶向药, 癌症, 买, 开, 患者, 原研药, 靶向]   \n",
       "5       [抵达, 边缘, 这下, 恐惧, 医护, 办法, 人员, 真的, 器械, 差]   \n",
       "6     [无聊, 特么, 洋抖, 在意, 小红书, 事, 幼稚, 照样, 美国人, 讨论]   \n",
       "7       [不配, 活, 干部, 计较, 畜生, 阶层, 说白了, 优秀, 怕, 领导]   \n",
       "8         [洋抖, 在意, 事, 不错, 稳定, 药效, 仿造, 正, 测, 药材]   \n",
       "9           [害怕, 假, 真, 吓人, 走势, 眼中, 敢, 一点, 捧, 加]   \n",
       "10  [阿司匹林, 企业, 实验, 成本, 中选, 肠溶片, 水杨酸, 药品, 生产, 中]   \n",
       "11     [复诊, 明天, 抽, 正好, 血, 医院, 进口, 麻醉药, 转头, 十几年]   \n",
       "12    [机制, 反对, 评价, 懂, 旗帜, 你好, 双手, 赞成, 绝大部分, 改进]   \n",
       "13   [引流, 美国人, 日本, 公众, 至少, 90, 讨论, 小红书, 医药, 集采]   \n",
       "14     [自费, 免疫, 靶向药, 癌症, 买, 开, 患者, 原研药, 药, 免疫药]   \n",
       "\n",
       "                                              KeyBERT  \\\n",
       "0    [国家医保局, 医保局, 医药, 原研药, 药效, 药企, 国产, 药, 三联生活周刊, 药物]   \n",
       "1        [国家医保局, 医保局, 国产, 药效, 原研药, 医药, 麻药, 中药, 药, 政协]   \n",
       "2             [医院, 药品, 级别, 上班, 受, 指标, 集采, 真理, 朴素, 铺展]   \n",
       "3               [质量, 集采, 垃圾, 解决, 制度, 三, 点, 价格, l, 支持]   \n",
       "4           [癌症, 免疫药, 靶向药, 药业, 免疫, 药, 自费, 原研药, 买, 患者]   \n",
       "5              [差, 难用, 恐慌, 恐惧, 医院, 风险, 医护, 太, 无聊, 这下]   \n",
       "6           [无聊, 在意, 小红书, 讨论, 事, 特么, 幼稚, 照样, 洋抖, 美国人]   \n",
       "7              [不配, 不用, 说白了, 计较, 畜生, 怕, 活, 领导, 死, 干部]   \n",
       "8            [好多, 在意, 小红书, 事, 关心, 无聊, 一点, 情况, 屁话, 管用]   \n",
       "9                  [害怕, 吓人, 假, 真, 没, 敢, 一点, 眼中, 捧, 加]   \n",
       "10  [阿司匹林, 京新药业, 阿司匹林肠, 阿司匹林肠溶片, 原料药, 仿制药, 中选药, 药物...   \n",
       "11     [复诊, 明天, 手术台, 抽血, 手术室, 一会儿, 医院, 医生, 剖腹产, 缺一不可]   \n",
       "12            [反对, 赞成, 评价, 建议, 改进, 集采, 讨论, 药效, 懂, 监督]   \n",
       "13           [公众, 美国, 医药, 美国人, 讨论, 集采, 事情, 研究, 投入, 想]   \n",
       "14           [癌症, 免疫药, 靶向药, 免疫, 药, 自费, 原研药, 买, 患者, 开]   \n",
       "\n",
       "                                               OpenAI  \\\n",
       "0   [Pharmaceutical procurement quality risk inves...   \n",
       "1             [Drug procurement quality assurance...]   \n",
       "2              [Hospital working level not affected.]   \n",
       "3            [Quality issues in group procurement...]   \n",
       "4           [Self-pay options for cancer patients...]   \n",
       "5                      [Reaching the edge of fear...]   \n",
       "6   [Boredom, obsession, cultural discussions, chi...   \n",
       "7            [Unworthy officials shouldn't be alive.]   \n",
       "8        [Care about authentic medicine and quality.]   \n",
       "9                        [Fearful of real or fake...]   \n",
       "10    [Chemical teacher questions aspirin quality...]   \n",
       "11     [Blood test appointment tomorrow at hospital.]   \n",
       "12  [Opposition towards procurement system improve...   \n",
       "13  [American influencer dominates Japanese medica...   \n",
       "14      [Self-paying for cancer immunotherapy drugs.]   \n",
       "\n",
       "                                                  MMR  \\\n",
       "0        [药品, 医保, 仿制药, 数据, 医药, 医疗, 进口, 行业, 国家医保局, 临床]   \n",
       "1       [医保, 原研药, 仿制药, 医疗, 国家医保局, 临床, 医药, 进口, 药企, 产品]   \n",
       "2      [上班, 级别, 指标, 影响, 干部, 医院, 药品, 集采, chsnwwii, 真理]   \n",
       "3              [解决, 质量, 集采, 垃圾, l, 三, 保证, 支持, 制度, 价格]   \n",
       "4   [免疫药, 癌症, 患者, 原研药, inmo, 数据中心, 养老, 业务, 孕产妇, 陕西华达]   \n",
       "5              [边缘, 恐惧, 医护, 差, 职业, 难用, 恐慌, 手套, 太, 无聊]   \n",
       "6           [无聊, 特么, 洋抖, 在意, 小红书, 事, 幼稚, 照样, 美国人, 讨论]   \n",
       "7              [不配, 活, 干部, 畜生, 阶层, 说白了, 怕, 领导, 死, 需求]   \n",
       "8            [在意, 稳定, 药效, 测, 药材, 中成药, 季节, 产地, 雨水, 博士]   \n",
       "9             [害怕, 假, 吓人, 走势, 眼中, 敢, 一点, 医药股, 创新药, 没]   \n",
       "10   [阿司匹林, 企业, 成本, 肠溶片, 药品, 3分钱, 阿司匹林肠, 质量, 仿制药, 药物]   \n",
       "11       [复诊, 明天, 医院, 麻醉药, 十几年, 药, 医生, 打针, 既得利益者, 抽血]   \n",
       "12           [反对, 评价, 旗帜, 改进, 监督, 网民, 制度, 药效, 集采, 上海]   \n",
       "13          [美国人, 日本, 公众, 90, 讨论, 医药, 现实, 投入, 研究, 美国]   \n",
       "14  [自费, 免疫, 靶向药, 癌症, 买, 患者, 原研药, 药, 免疫药, , , , , ...   \n",
       "\n",
       "                                  Representative_Docs  \n",
       "0   [【 针对 某些 集采 药品 可能 存在 质量 风险 等 问题 国家医保局 牵头 调查 】 ...  \n",
       "1   [# 调查 集采 药品 可能 存在 的 质量 风险 问题 # 【 针对 某些 集采 药品 可...  \n",
       "2   [我 在 医院 上班 回答 你 ： 不能 ， 没有 这个 指标 ， 但是 干部 级别 的 不...  \n",
       "3   [集采 有 质量 问题 如何 解决 ？, 集采 有 质量 问题 如何 解决 ？, 集采 有 ...  \n",
       "4   [癌症 患者 自费 能 开 一些 原研药 吗 ， 一些 免疫药 和 靶向药 能 自费 买 吗...  \n",
       "5   [这下 真的 抵达 恐惧 边缘 了 器械 质量 这么 差 医护 人员 也 没 办法 啊, 这...  \n",
       "6   [比起 小红书 洋抖 那些 无聊 的 事 ， 我 特么 更 在意 这些 问题 。。。, 比起...  \n",
       "7          [不是 干部 不配 活 着, 不是 干部 不配 活 着, 不是 干部 不配 活 着]  \n",
       "8   [比起 红书 洋抖 那些 事 ， 我 更 在意 这些, 比起 红书 洋抖 那些 事 ， 我 ...  \n",
       "9   [真 的 假 的 …… 我 害怕, 真 的 假 的 …… 我 害怕, 真 的 假 的 …… ...  \n",
       "10  [【 # 多 款 阿司匹林 被 化学 老师 点名 # ， # 化学 实验 能否 证明 阿司匹...  \n",
       "11  [………… 明天 正好 要 去 医院 抽 血 复诊, ………… 明天 正好 要 去 医院 抽...  \n",
       "12  [“ 绝大部分 人 都 欢迎 改进 集采 的 建议 ， 包括 定价 机制 、 药效 一致性 ...  \n",
       "13  [原来 日本 也 有 这种 引流 的 替罪羊 ， 小红书 的 美国人 最近 引流 了 至少 ...  \n",
       "14  [癌症 患者 自费 能 开 一些 原研药 吗 ， 一些 免疫 药 和 靶向药 能 自费 买 ...  "
      ]
     },
     "execution_count": 17,
     "metadata": {},
     "output_type": "execute_result"
    }
   ],
   "source": [
    "from bertopic import BERTopic\n",
    "\n",
    "topic_model = BERTopic(\n",
    "    # Pipeline models\n",
    "    embedding_model=embedding_model,\n",
    "    umap_model=umap_model,\n",
    "    hdbscan_model=hdbscan_model,\n",
    "    vectorizer_model=vectorizer_model,\n",
    "    representation_model=representation_model,\n",
    "    # Hyperparameters\n",
    "    top_n_words=10,\n",
    "    verbose=True,\n",
    ")\n",
    "\n",
    "# Train model\n",
    "topics, probs = topic_model.fit_transform(data['content_seg'], embeddings)\n",
    "\n",
    "# Show topics\n",
    "topic_model.get_topic_info()"
   ]
  },
  {
   "cell_type": "code",
   "execution_count": 18,
   "metadata": {},
   "outputs": [
    {
     "name": "stdout",
     "output_type": "stream",
     "text": [
      "Pharmaceutical procurement quality risk investigation...\n",
      "Drug procurement quality assurance...\n",
      "Hospital working level not affected.\n",
      "Quality issues in group procurement...\n",
      "Self-pay options for cancer patients...\n",
      "Reaching the edge of fear...\n",
      "Boredom, obsession, cultural discussions, childish.\n",
      "Unworthy officials shouldn't be alive.\n",
      "Care about authentic medicine and quality.\n",
      "Fearful of real or fake...\n",
      "Chemical teacher questions aspirin quality...\n",
      "Blood test appointment tomorrow at hospital.\n",
      "Opposition towards procurement system improvements...\n",
      "American influencer dominates Japanese medical discourse.\n",
      "Self-paying for cancer immunotherapy drugs.\n"
     ]
    }
   ],
   "source": [
    "for i in topic_model.get_topic_info()['OpenAI'].apply(lambda x: x[0]).tolist():\n",
    "    print(i)"
   ]
  },
  {
   "cell_type": "code",
   "execution_count": 19,
   "metadata": {},
   "outputs": [],
   "source": [
    "chatgpt_topic_labels = {topic: \" | \".join(list(zip(*values))[0]) for topic, values in topic_model.topic_aspects_[\"OpenAI\"].items()}\n",
    "chatgpt_topic_labels[-1] = \"Outlier Topic\"\n",
    "topic_model.set_topic_labels(chatgpt_topic_labels)"
   ]
  },
  {
   "cell_type": "code",
   "execution_count": null,
   "metadata": {},
   "outputs": [
    {
     "data": {
      "text/plain": [
       "dict_values([[('Pharmaceutical industry reform and progress...', 1)], [('Drug procurement quality concerns addressed...', 1)], [('Hospital staff discussing drug procurement...', 1)], [('Cancer patients buying immunotherapy and targeted drugs...', 1)], [('Resolve procurement quality issues effectively', 1)], [('Reaching edge of fear, medical staff...', 1)], [('Concerned about trivial matters overboard...', 1)], [('Unworthy cadres not fit to live...', 1)], [(\"Scared of what's real or fake...\", 1)], [('Tomorrow hospital blood test follow-up', 1)], [('Herbal medicine selection and quality control...', 1)], [('American influence in Japanese healthcare...', 1)], [('Availability of self-funded cancer medications...', 1)]])"
      ]
     },
     "execution_count": 109,
     "metadata": {},
     "output_type": "execute_result"
    }
   ],
   "source": [
    "topic_model.topic_aspects_[\"OpenAI\"].values()"
   ]
  },
  {
   "cell_type": "code",
   "execution_count": null,
   "metadata": {},
   "outputs": [],
   "source": [
    "topic_labels = topic_model.generate_topic_labels(\n",
    "    nr_words=3, topic_prefix=False, word_length=10, separator=\", \"\n",
    ")"
   ]
  },
  {
   "cell_type": "code",
   "execution_count": null,
   "metadata": {},
   "outputs": [
    {
     "ename": "TypeError",
     "evalue": "'dict' object is not callable",
     "output_type": "error",
     "traceback": [
      "\u001b[0;31m---------------------------------------------------------------------------\u001b[0m",
      "\u001b[0;31mTypeError\u001b[0m                                 Traceback (most recent call last)",
      "Cell \u001b[0;32mIn[126], line 5\u001b[0m\n\u001b[1;32m      1\u001b[0m topic_labels \u001b[38;5;241m=\u001b[39m topic_model\u001b[38;5;241m.\u001b[39mgenerate_topic_labels(nr_words\u001b[38;5;241m=\u001b[39m\u001b[38;5;241m3\u001b[39m,\n\u001b[1;32m      2\u001b[0m                                                  topic_prefix\u001b[38;5;241m=\u001b[39m\u001b[38;5;28;01mFalse\u001b[39;00m,\n\u001b[1;32m      3\u001b[0m                                                  word_length\u001b[38;5;241m=\u001b[39m\u001b[38;5;241m10\u001b[39m,\n\u001b[1;32m      4\u001b[0m                                                  separator\u001b[38;5;241m=\u001b[39m\u001b[38;5;124m\"\u001b[39m\u001b[38;5;124m, \u001b[39m\u001b[38;5;124m\"\u001b[39m)\n\u001b[0;32m----> 5\u001b[0m topic_model\u001b[38;5;241m.\u001b[39mset_topic_labels(topic_labels)\n",
      "\u001b[0;31mTypeError\u001b[0m: 'dict' object is not callable"
     ]
    }
   ],
   "source": [
    "topic_labels = topic_model.generate_topic_labels(nr_words=3,\n",
    "                                                 topic_prefix=False,\n",
    "                                                 word_length=10,\n",
    "                                                 separator=\", \")\n",
    "topic_model.set_topic_labels(topic_labels)\n"
   ]
  },
  {
   "cell_type": "code",
   "execution_count": 2,
   "metadata": {},
   "outputs": [
    {
     "ename": "NameError",
     "evalue": "name 'topic_model' is not defined",
     "output_type": "error",
     "traceback": [
      "\u001b[0;31m---------------------------------------------------------------------------\u001b[0m",
      "\u001b[0;31mNameError\u001b[0m                                 Traceback (most recent call last)",
      "Cell \u001b[0;32mIn[2], line 1\u001b[0m\n\u001b[0;32m----> 1\u001b[0m topic_model\u001b[38;5;241m.\u001b[39mvisualize_barchart(custom_labels\u001b[38;5;241m=\u001b[39m\u001b[38;5;28;01mTrue\u001b[39;00m, top_n_topics\u001b[38;5;241m=\u001b[39m \u001b[38;5;241m20\u001b[39m)\n",
      "\u001b[0;31mNameError\u001b[0m: name 'topic_model' is not defined"
     ]
    }
   ],
   "source": [
    "topic_model.visualize_barchart(custom_labels=True, top_n_topics= 20)"
   ]
  },
  {
   "cell_type": "code",
   "execution_count": 119,
   "metadata": {},
   "outputs": [
    {
     "data": {
      "application/vnd.plotly.v1+json": {
       "config": {
        "plotlyServerURL": "https://plot.ly"
       },
       "data": [
        {
         "hoverinfo": "text",
         "marker": {
          "color": "rgb(61,153,112)"
         },
         "mode": "lines",
         "type": "scatter",
         "x": [
          0,
          0.24781994331214874,
          0.24781994331214874,
          0
         ],
         "xaxis": "x",
         "y": [
          -5,
          -5,
          -15,
          -15
         ],
         "yaxis": "y"
        },
        {
         "hoverinfo": "text",
         "marker": {
          "color": "rgb(255,65,54)"
         },
         "mode": "lines",
         "type": "scatter",
         "x": [
          0,
          0.4249349979653658,
          0.4249349979653658,
          0
         ],
         "xaxis": "x",
         "y": [
          -25,
          -25,
          -35,
          -35
         ],
         "yaxis": "y"
        },
        {
         "hoverinfo": "text",
         "marker": {
          "color": "rgb(35,205,205)"
         },
         "mode": "lines",
         "type": "scatter",
         "x": [
          0,
          0.9974076450734874,
          0.9974076450734874,
          0
         ],
         "xaxis": "x",
         "y": [
          -45,
          -45,
          -55,
          -55
         ],
         "yaxis": "y"
        },
        {
         "hoverinfo": "text",
         "marker": {
          "color": "rgb(0,116,217)"
         },
         "mode": "lines",
         "type": "scatter",
         "x": [
          0.9974076450734874,
          1.0005342939295119,
          1.0005342939295119,
          0
         ],
         "xaxis": "x",
         "y": [
          -50,
          -50,
          -65,
          -65
         ],
         "yaxis": "y"
        },
        {
         "hoverinfo": "text",
         "marker": {
          "color": "rgb(133,20,75)"
         },
         "mode": "lines",
         "type": "scatter",
         "x": [
          0,
          0.8315842937626661,
          0.8315842937626661,
          0
         ],
         "xaxis": "x",
         "y": [
          -75,
          -75,
          -85,
          -85
         ],
         "yaxis": "y"
        },
        {
         "hoverinfo": "text",
         "marker": {
          "color": "rgb(133,20,75)"
         },
         "mode": "lines",
         "type": "scatter",
         "x": [
          0.8315842937626661,
          0.9560110097988762,
          0.9560110097988762,
          0
         ],
         "xaxis": "x",
         "y": [
          -80,
          -80,
          -95,
          -95
         ],
         "yaxis": "y"
        },
        {
         "hoverinfo": "text",
         "marker": {
          "color": "rgb(0,116,217)"
         },
         "mode": "lines",
         "type": "scatter",
         "x": [
          1.0005342939295119,
          1.040279559788215,
          1.040279559788215,
          0.9560110097988762
         ],
         "xaxis": "x",
         "y": [
          -57.5,
          -57.5,
          -87.5,
          -87.5
         ],
         "yaxis": "y"
        },
        {
         "hoverinfo": "text",
         "marker": {
          "color": "rgb(255,220,0)"
         },
         "mode": "lines",
         "type": "scatter",
         "x": [
          0,
          0.8489797583421916,
          0.8489797583421916,
          0
         ],
         "xaxis": "x",
         "y": [
          -105,
          -105,
          -115,
          -115
         ],
         "yaxis": "y"
        },
        {
         "hoverinfo": "text",
         "marker": {
          "color": "rgb(0,116,217)"
         },
         "mode": "lines",
         "type": "scatter",
         "x": [
          1.040279559788215,
          1.089377778386195,
          1.089377778386195,
          0.8489797583421916
         ],
         "xaxis": "x",
         "y": [
          -72.5,
          -72.5,
          -110,
          -110
         ],
         "yaxis": "y"
        },
        {
         "hoverinfo": "text",
         "marker": {
          "color": "rgb(0,116,217)"
         },
         "mode": "lines",
         "type": "scatter",
         "x": [
          0.4249349979653658,
          1.2867315779491417,
          1.2867315779491417,
          1.089377778386195
         ],
         "xaxis": "x",
         "y": [
          -30,
          -30,
          -91.25,
          -91.25
         ],
         "yaxis": "y"
        },
        {
         "hoverinfo": "text",
         "marker": {
          "color": "rgb(0,116,217)"
         },
         "mode": "lines",
         "type": "scatter",
         "x": [
          0.24781994331214874,
          1.3430527558019414,
          1.3430527558019414,
          1.2867315779491417
         ],
         "xaxis": "x",
         "y": [
          -10,
          -10,
          -60.625,
          -60.625
         ],
         "yaxis": "y"
        }
       ],
       "layout": {
        "autosize": false,
        "height": 380,
        "hoverlabel": {
         "bgcolor": "white",
         "font": {
          "family": "Rockwell",
          "size": 16
         }
        },
        "hovermode": "closest",
        "plot_bgcolor": "#ECEFF1",
        "showlegend": false,
        "template": {
         "data": {
          "bar": [
           {
            "error_x": {
             "color": "#2a3f5f"
            },
            "error_y": {
             "color": "#2a3f5f"
            },
            "marker": {
             "line": {
              "color": "white",
              "width": 0.5
             },
             "pattern": {
              "fillmode": "overlay",
              "size": 10,
              "solidity": 0.2
             }
            },
            "type": "bar"
           }
          ],
          "barpolar": [
           {
            "marker": {
             "line": {
              "color": "white",
              "width": 0.5
             },
             "pattern": {
              "fillmode": "overlay",
              "size": 10,
              "solidity": 0.2
             }
            },
            "type": "barpolar"
           }
          ],
          "carpet": [
           {
            "aaxis": {
             "endlinecolor": "#2a3f5f",
             "gridcolor": "#C8D4E3",
             "linecolor": "#C8D4E3",
             "minorgridcolor": "#C8D4E3",
             "startlinecolor": "#2a3f5f"
            },
            "baxis": {
             "endlinecolor": "#2a3f5f",
             "gridcolor": "#C8D4E3",
             "linecolor": "#C8D4E3",
             "minorgridcolor": "#C8D4E3",
             "startlinecolor": "#2a3f5f"
            },
            "type": "carpet"
           }
          ],
          "choropleth": [
           {
            "colorbar": {
             "outlinewidth": 0,
             "ticks": ""
            },
            "type": "choropleth"
           }
          ],
          "contour": [
           {
            "colorbar": {
             "outlinewidth": 0,
             "ticks": ""
            },
            "colorscale": [
             [
              0,
              "#0d0887"
             ],
             [
              0.1111111111111111,
              "#46039f"
             ],
             [
              0.2222222222222222,
              "#7201a8"
             ],
             [
              0.3333333333333333,
              "#9c179e"
             ],
             [
              0.4444444444444444,
              "#bd3786"
             ],
             [
              0.5555555555555556,
              "#d8576b"
             ],
             [
              0.6666666666666666,
              "#ed7953"
             ],
             [
              0.7777777777777778,
              "#fb9f3a"
             ],
             [
              0.8888888888888888,
              "#fdca26"
             ],
             [
              1,
              "#f0f921"
             ]
            ],
            "type": "contour"
           }
          ],
          "contourcarpet": [
           {
            "colorbar": {
             "outlinewidth": 0,
             "ticks": ""
            },
            "type": "contourcarpet"
           }
          ],
          "heatmap": [
           {
            "colorbar": {
             "outlinewidth": 0,
             "ticks": ""
            },
            "colorscale": [
             [
              0,
              "#0d0887"
             ],
             [
              0.1111111111111111,
              "#46039f"
             ],
             [
              0.2222222222222222,
              "#7201a8"
             ],
             [
              0.3333333333333333,
              "#9c179e"
             ],
             [
              0.4444444444444444,
              "#bd3786"
             ],
             [
              0.5555555555555556,
              "#d8576b"
             ],
             [
              0.6666666666666666,
              "#ed7953"
             ],
             [
              0.7777777777777778,
              "#fb9f3a"
             ],
             [
              0.8888888888888888,
              "#fdca26"
             ],
             [
              1,
              "#f0f921"
             ]
            ],
            "type": "heatmap"
           }
          ],
          "heatmapgl": [
           {
            "colorbar": {
             "outlinewidth": 0,
             "ticks": ""
            },
            "colorscale": [
             [
              0,
              "#0d0887"
             ],
             [
              0.1111111111111111,
              "#46039f"
             ],
             [
              0.2222222222222222,
              "#7201a8"
             ],
             [
              0.3333333333333333,
              "#9c179e"
             ],
             [
              0.4444444444444444,
              "#bd3786"
             ],
             [
              0.5555555555555556,
              "#d8576b"
             ],
             [
              0.6666666666666666,
              "#ed7953"
             ],
             [
              0.7777777777777778,
              "#fb9f3a"
             ],
             [
              0.8888888888888888,
              "#fdca26"
             ],
             [
              1,
              "#f0f921"
             ]
            ],
            "type": "heatmapgl"
           }
          ],
          "histogram": [
           {
            "marker": {
             "pattern": {
              "fillmode": "overlay",
              "size": 10,
              "solidity": 0.2
             }
            },
            "type": "histogram"
           }
          ],
          "histogram2d": [
           {
            "colorbar": {
             "outlinewidth": 0,
             "ticks": ""
            },
            "colorscale": [
             [
              0,
              "#0d0887"
             ],
             [
              0.1111111111111111,
              "#46039f"
             ],
             [
              0.2222222222222222,
              "#7201a8"
             ],
             [
              0.3333333333333333,
              "#9c179e"
             ],
             [
              0.4444444444444444,
              "#bd3786"
             ],
             [
              0.5555555555555556,
              "#d8576b"
             ],
             [
              0.6666666666666666,
              "#ed7953"
             ],
             [
              0.7777777777777778,
              "#fb9f3a"
             ],
             [
              0.8888888888888888,
              "#fdca26"
             ],
             [
              1,
              "#f0f921"
             ]
            ],
            "type": "histogram2d"
           }
          ],
          "histogram2dcontour": [
           {
            "colorbar": {
             "outlinewidth": 0,
             "ticks": ""
            },
            "colorscale": [
             [
              0,
              "#0d0887"
             ],
             [
              0.1111111111111111,
              "#46039f"
             ],
             [
              0.2222222222222222,
              "#7201a8"
             ],
             [
              0.3333333333333333,
              "#9c179e"
             ],
             [
              0.4444444444444444,
              "#bd3786"
             ],
             [
              0.5555555555555556,
              "#d8576b"
             ],
             [
              0.6666666666666666,
              "#ed7953"
             ],
             [
              0.7777777777777778,
              "#fb9f3a"
             ],
             [
              0.8888888888888888,
              "#fdca26"
             ],
             [
              1,
              "#f0f921"
             ]
            ],
            "type": "histogram2dcontour"
           }
          ],
          "mesh3d": [
           {
            "colorbar": {
             "outlinewidth": 0,
             "ticks": ""
            },
            "type": "mesh3d"
           }
          ],
          "parcoords": [
           {
            "line": {
             "colorbar": {
              "outlinewidth": 0,
              "ticks": ""
             }
            },
            "type": "parcoords"
           }
          ],
          "pie": [
           {
            "automargin": true,
            "type": "pie"
           }
          ],
          "scatter": [
           {
            "fillpattern": {
             "fillmode": "overlay",
             "size": 10,
             "solidity": 0.2
            },
            "type": "scatter"
           }
          ],
          "scatter3d": [
           {
            "line": {
             "colorbar": {
              "outlinewidth": 0,
              "ticks": ""
             }
            },
            "marker": {
             "colorbar": {
              "outlinewidth": 0,
              "ticks": ""
             }
            },
            "type": "scatter3d"
           }
          ],
          "scattercarpet": [
           {
            "marker": {
             "colorbar": {
              "outlinewidth": 0,
              "ticks": ""
             }
            },
            "type": "scattercarpet"
           }
          ],
          "scattergeo": [
           {
            "marker": {
             "colorbar": {
              "outlinewidth": 0,
              "ticks": ""
             }
            },
            "type": "scattergeo"
           }
          ],
          "scattergl": [
           {
            "marker": {
             "colorbar": {
              "outlinewidth": 0,
              "ticks": ""
             }
            },
            "type": "scattergl"
           }
          ],
          "scattermapbox": [
           {
            "marker": {
             "colorbar": {
              "outlinewidth": 0,
              "ticks": ""
             }
            },
            "type": "scattermapbox"
           }
          ],
          "scatterpolar": [
           {
            "marker": {
             "colorbar": {
              "outlinewidth": 0,
              "ticks": ""
             }
            },
            "type": "scatterpolar"
           }
          ],
          "scatterpolargl": [
           {
            "marker": {
             "colorbar": {
              "outlinewidth": 0,
              "ticks": ""
             }
            },
            "type": "scatterpolargl"
           }
          ],
          "scatterternary": [
           {
            "marker": {
             "colorbar": {
              "outlinewidth": 0,
              "ticks": ""
             }
            },
            "type": "scatterternary"
           }
          ],
          "surface": [
           {
            "colorbar": {
             "outlinewidth": 0,
             "ticks": ""
            },
            "colorscale": [
             [
              0,
              "#0d0887"
             ],
             [
              0.1111111111111111,
              "#46039f"
             ],
             [
              0.2222222222222222,
              "#7201a8"
             ],
             [
              0.3333333333333333,
              "#9c179e"
             ],
             [
              0.4444444444444444,
              "#bd3786"
             ],
             [
              0.5555555555555556,
              "#d8576b"
             ],
             [
              0.6666666666666666,
              "#ed7953"
             ],
             [
              0.7777777777777778,
              "#fb9f3a"
             ],
             [
              0.8888888888888888,
              "#fdca26"
             ],
             [
              1,
              "#f0f921"
             ]
            ],
            "type": "surface"
           }
          ],
          "table": [
           {
            "cells": {
             "fill": {
              "color": "#EBF0F8"
             },
             "line": {
              "color": "white"
             }
            },
            "header": {
             "fill": {
              "color": "#C8D4E3"
             },
             "line": {
              "color": "white"
             }
            },
            "type": "table"
           }
          ]
         },
         "layout": {
          "annotationdefaults": {
           "arrowcolor": "#2a3f5f",
           "arrowhead": 0,
           "arrowwidth": 1
          },
          "autotypenumbers": "strict",
          "coloraxis": {
           "colorbar": {
            "outlinewidth": 0,
            "ticks": ""
           }
          },
          "colorscale": {
           "diverging": [
            [
             0,
             "#8e0152"
            ],
            [
             0.1,
             "#c51b7d"
            ],
            [
             0.2,
             "#de77ae"
            ],
            [
             0.3,
             "#f1b6da"
            ],
            [
             0.4,
             "#fde0ef"
            ],
            [
             0.5,
             "#f7f7f7"
            ],
            [
             0.6,
             "#e6f5d0"
            ],
            [
             0.7,
             "#b8e186"
            ],
            [
             0.8,
             "#7fbc41"
            ],
            [
             0.9,
             "#4d9221"
            ],
            [
             1,
             "#276419"
            ]
           ],
           "sequential": [
            [
             0,
             "#0d0887"
            ],
            [
             0.1111111111111111,
             "#46039f"
            ],
            [
             0.2222222222222222,
             "#7201a8"
            ],
            [
             0.3333333333333333,
             "#9c179e"
            ],
            [
             0.4444444444444444,
             "#bd3786"
            ],
            [
             0.5555555555555556,
             "#d8576b"
            ],
            [
             0.6666666666666666,
             "#ed7953"
            ],
            [
             0.7777777777777778,
             "#fb9f3a"
            ],
            [
             0.8888888888888888,
             "#fdca26"
            ],
            [
             1,
             "#f0f921"
            ]
           ],
           "sequentialminus": [
            [
             0,
             "#0d0887"
            ],
            [
             0.1111111111111111,
             "#46039f"
            ],
            [
             0.2222222222222222,
             "#7201a8"
            ],
            [
             0.3333333333333333,
             "#9c179e"
            ],
            [
             0.4444444444444444,
             "#bd3786"
            ],
            [
             0.5555555555555556,
             "#d8576b"
            ],
            [
             0.6666666666666666,
             "#ed7953"
            ],
            [
             0.7777777777777778,
             "#fb9f3a"
            ],
            [
             0.8888888888888888,
             "#fdca26"
            ],
            [
             1,
             "#f0f921"
            ]
           ]
          },
          "colorway": [
           "#636efa",
           "#EF553B",
           "#00cc96",
           "#ab63fa",
           "#FFA15A",
           "#19d3f3",
           "#FF6692",
           "#B6E880",
           "#FF97FF",
           "#FECB52"
          ],
          "font": {
           "color": "#2a3f5f"
          },
          "geo": {
           "bgcolor": "white",
           "lakecolor": "white",
           "landcolor": "white",
           "showlakes": true,
           "showland": true,
           "subunitcolor": "#C8D4E3"
          },
          "hoverlabel": {
           "align": "left"
          },
          "hovermode": "closest",
          "mapbox": {
           "style": "light"
          },
          "paper_bgcolor": "white",
          "plot_bgcolor": "white",
          "polar": {
           "angularaxis": {
            "gridcolor": "#EBF0F8",
            "linecolor": "#EBF0F8",
            "ticks": ""
           },
           "bgcolor": "white",
           "radialaxis": {
            "gridcolor": "#EBF0F8",
            "linecolor": "#EBF0F8",
            "ticks": ""
           }
          },
          "scene": {
           "xaxis": {
            "backgroundcolor": "white",
            "gridcolor": "#DFE8F3",
            "gridwidth": 2,
            "linecolor": "#EBF0F8",
            "showbackground": true,
            "ticks": "",
            "zerolinecolor": "#EBF0F8"
           },
           "yaxis": {
            "backgroundcolor": "white",
            "gridcolor": "#DFE8F3",
            "gridwidth": 2,
            "linecolor": "#EBF0F8",
            "showbackground": true,
            "ticks": "",
            "zerolinecolor": "#EBF0F8"
           },
           "zaxis": {
            "backgroundcolor": "white",
            "gridcolor": "#DFE8F3",
            "gridwidth": 2,
            "linecolor": "#EBF0F8",
            "showbackground": true,
            "ticks": "",
            "zerolinecolor": "#EBF0F8"
           }
          },
          "shapedefaults": {
           "line": {
            "color": "#2a3f5f"
           }
          },
          "ternary": {
           "aaxis": {
            "gridcolor": "#DFE8F3",
            "linecolor": "#A2B1C6",
            "ticks": ""
           },
           "baxis": {
            "gridcolor": "#DFE8F3",
            "linecolor": "#A2B1C6",
            "ticks": ""
           },
           "bgcolor": "white",
           "caxis": {
            "gridcolor": "#DFE8F3",
            "linecolor": "#A2B1C6",
            "ticks": ""
           }
          },
          "title": {
           "x": 0.05
          },
          "xaxis": {
           "automargin": true,
           "gridcolor": "#EBF0F8",
           "linecolor": "#EBF0F8",
           "ticks": "",
           "title": {
            "standoff": 15
           },
           "zerolinecolor": "#EBF0F8",
           "zerolinewidth": 2
          },
          "yaxis": {
           "automargin": true,
           "gridcolor": "#EBF0F8",
           "linecolor": "#EBF0F8",
           "ticks": "",
           "title": {
            "standoff": 15
           },
           "zerolinecolor": "#EBF0F8",
           "zerolinewidth": 2
          }
         }
        },
        "title": {
         "font": {
          "color": "Black",
          "size": 22
         },
         "text": "<b>Hierarchical Clustering</b>",
         "x": 0.5,
         "xanchor": "center",
         "yanchor": "top"
        },
        "width": 1000,
        "xaxis": {
         "mirror": "allticks",
         "rangemode": "tozero",
         "showgrid": false,
         "showline": true,
         "showticklabels": true,
         "ticks": "outside",
         "type": "linear",
         "zeroline": false
        },
        "yaxis": {
         "mirror": "allticks",
         "range": [
          -120,
          0
         ],
         "rangemode": "tozero",
         "showgrid": false,
         "showline": true,
         "showticklabels": true,
         "tickmode": "array",
         "ticks": "outside",
         "ticktext": [
          "11_自费_免疫_靶向药",
          "2_自费_免疫药_关心",
          "9_洋抖_在意_事",
          "5_无聊_特么_洋抖",
          "7_害怕_假_真",
          "8_复诊_明天_抽",
          "10_引流_美国人_日本",
          "3_解决_质量_集采",
          "0_集采_药_药品",
          "4_抵达_边缘_这下",
          "1_铺展_上班_级别",
          "6_不配_活_干部"
         ],
         "tickvals": [
          -5,
          -15,
          -25,
          -35,
          -45,
          -55,
          -65,
          -75,
          -85,
          -95,
          -105,
          -115
         ],
         "type": "linear",
         "zeroline": false
        }
       }
      }
     },
     "metadata": {},
     "output_type": "display_data"
    }
   ],
   "source": [
    "topic_model.visualize_hierarchy(custom_labels=True)"
   ]
  },
  {
   "cell_type": "code",
   "execution_count": 37,
   "metadata": {},
   "outputs": [
    {
     "data": {
      "application/vnd.plotly.v1+json": {
       "config": {
        "plotlyServerURL": "https://plot.ly"
       },
       "data": [
        {
         "hoverinfo": "text",
         "marker": {
          "color": "rgb(61,153,112)"
         },
         "mode": "lines",
         "type": "scatter",
         "x": [
          0,
          0.24640095124750527,
          0.24640095124750527,
          0
         ],
         "xaxis": "x",
         "y": [
          -5,
          -5,
          -15,
          -15
         ],
         "yaxis": "y"
        },
        {
         "hoverinfo": "text",
         "marker": {
          "color": "rgb(255,65,54)"
         },
         "mode": "lines",
         "type": "scatter",
         "x": [
          0,
          0.8487112656267577,
          0.8487112656267577,
          0
         ],
         "xaxis": "x",
         "y": [
          -25,
          -25,
          -35,
          -35
         ],
         "yaxis": "y"
        },
        {
         "hoverinfo": "text",
         "marker": {
          "color": "rgb(35,205,205)"
         },
         "mode": "lines",
         "type": "scatter",
         "x": [
          0,
          0.9974059957056235,
          0.9974059957056235,
          0
         ],
         "xaxis": "x",
         "y": [
          -45,
          -45,
          -55,
          -55
         ],
         "yaxis": "y"
        },
        {
         "hoverinfo": "text",
         "marker": {
          "color": "rgb(0,116,217)"
         },
         "mode": "lines",
         "type": "scatter",
         "x": [
          0.9974059957056235,
          1.0005273923138331,
          1.0005273923138331,
          0
         ],
         "xaxis": "x",
         "y": [
          -50,
          -50,
          -65,
          -65
         ],
         "yaxis": "y"
        },
        {
         "hoverinfo": "text",
         "marker": {
          "color": "rgb(133,20,75)"
         },
         "mode": "lines",
         "type": "scatter",
         "x": [
          0,
          0.9278679152121235,
          0.9278679152121235,
          0
         ],
         "xaxis": "x",
         "y": [
          -75,
          -75,
          -85,
          -85
         ],
         "yaxis": "y"
        },
        {
         "hoverinfo": "text",
         "marker": {
          "color": "rgb(0,116,217)"
         },
         "mode": "lines",
         "type": "scatter",
         "x": [
          1.0005273923138331,
          1.0339836731469798,
          1.0339836731469798,
          0.9278679152121235
         ],
         "xaxis": "x",
         "y": [
          -57.5,
          -57.5,
          -80,
          -80
         ],
         "yaxis": "y"
        },
        {
         "hoverinfo": "text",
         "marker": {
          "color": "rgb(0,116,217)"
         },
         "mode": "lines",
         "type": "scatter",
         "x": [
          0.8487112656267577,
          1.0842946246191787,
          1.0842946246191787,
          1.0339836731469798
         ],
         "xaxis": "x",
         "y": [
          -30,
          -30,
          -68.75,
          -68.75
         ],
         "yaxis": "y"
        },
        {
         "hoverinfo": "text",
         "marker": {
          "color": "rgb(255,220,0)"
         },
         "mode": "lines",
         "type": "scatter",
         "x": [
          0,
          0.5046200478249766,
          0.5046200478249766,
          0
         ],
         "xaxis": "x",
         "y": [
          -95,
          -95,
          -105,
          -105
         ],
         "yaxis": "y"
        },
        {
         "hoverinfo": "text",
         "marker": {
          "color": "rgb(0,116,217)"
         },
         "mode": "lines",
         "type": "scatter",
         "x": [
          1.0842946246191787,
          1.1442167390438929,
          1.1442167390438929,
          0.5046200478249766
         ],
         "xaxis": "x",
         "y": [
          -49.375,
          -49.375,
          -100,
          -100
         ],
         "yaxis": "y"
        },
        {
         "hoverinfo": "text",
         "marker": {
          "color": "rgb(40,35,35)"
         },
         "mode": "lines",
         "type": "scatter",
         "x": [
          0,
          0.5842319859271312,
          0.5842319859271312,
          0
         ],
         "xaxis": "x",
         "y": [
          -115,
          -115,
          -125,
          -125
         ],
         "yaxis": "y"
        },
        {
         "hoverinfo": "text",
         "marker": {
          "color": "rgb(0,116,217)"
         },
         "mode": "lines",
         "type": "scatter",
         "x": [
          1.1442167390438929,
          1.248454932989955,
          1.248454932989955,
          0.5842319859271312
         ],
         "xaxis": "x",
         "y": [
          -74.6875,
          -74.6875,
          -120,
          -120
         ],
         "yaxis": "y"
        },
        {
         "hoverinfo": "text",
         "marker": {
          "color": "rgb(0,116,217)"
         },
         "mode": "lines",
         "type": "scatter",
         "x": [
          0.24640095124750527,
          1.3505181687426804,
          1.3505181687426804,
          1.248454932989955
         ],
         "xaxis": "x",
         "y": [
          -10,
          -10,
          -97.34375,
          -97.34375
         ],
         "yaxis": "y"
        }
       ],
       "layout": {
        "autosize": false,
        "height": 395,
        "hoverlabel": {
         "bgcolor": "white",
         "font": {
          "family": "Rockwell",
          "size": 16
         }
        },
        "hovermode": "closest",
        "plot_bgcolor": "#ECEFF1",
        "showlegend": false,
        "template": {
         "data": {
          "bar": [
           {
            "error_x": {
             "color": "#2a3f5f"
            },
            "error_y": {
             "color": "#2a3f5f"
            },
            "marker": {
             "line": {
              "color": "white",
              "width": 0.5
             },
             "pattern": {
              "fillmode": "overlay",
              "size": 10,
              "solidity": 0.2
             }
            },
            "type": "bar"
           }
          ],
          "barpolar": [
           {
            "marker": {
             "line": {
              "color": "white",
              "width": 0.5
             },
             "pattern": {
              "fillmode": "overlay",
              "size": 10,
              "solidity": 0.2
             }
            },
            "type": "barpolar"
           }
          ],
          "carpet": [
           {
            "aaxis": {
             "endlinecolor": "#2a3f5f",
             "gridcolor": "#C8D4E3",
             "linecolor": "#C8D4E3",
             "minorgridcolor": "#C8D4E3",
             "startlinecolor": "#2a3f5f"
            },
            "baxis": {
             "endlinecolor": "#2a3f5f",
             "gridcolor": "#C8D4E3",
             "linecolor": "#C8D4E3",
             "minorgridcolor": "#C8D4E3",
             "startlinecolor": "#2a3f5f"
            },
            "type": "carpet"
           }
          ],
          "choropleth": [
           {
            "colorbar": {
             "outlinewidth": 0,
             "ticks": ""
            },
            "type": "choropleth"
           }
          ],
          "contour": [
           {
            "colorbar": {
             "outlinewidth": 0,
             "ticks": ""
            },
            "colorscale": [
             [
              0,
              "#0d0887"
             ],
             [
              0.1111111111111111,
              "#46039f"
             ],
             [
              0.2222222222222222,
              "#7201a8"
             ],
             [
              0.3333333333333333,
              "#9c179e"
             ],
             [
              0.4444444444444444,
              "#bd3786"
             ],
             [
              0.5555555555555556,
              "#d8576b"
             ],
             [
              0.6666666666666666,
              "#ed7953"
             ],
             [
              0.7777777777777778,
              "#fb9f3a"
             ],
             [
              0.8888888888888888,
              "#fdca26"
             ],
             [
              1,
              "#f0f921"
             ]
            ],
            "type": "contour"
           }
          ],
          "contourcarpet": [
           {
            "colorbar": {
             "outlinewidth": 0,
             "ticks": ""
            },
            "type": "contourcarpet"
           }
          ],
          "heatmap": [
           {
            "colorbar": {
             "outlinewidth": 0,
             "ticks": ""
            },
            "colorscale": [
             [
              0,
              "#0d0887"
             ],
             [
              0.1111111111111111,
              "#46039f"
             ],
             [
              0.2222222222222222,
              "#7201a8"
             ],
             [
              0.3333333333333333,
              "#9c179e"
             ],
             [
              0.4444444444444444,
              "#bd3786"
             ],
             [
              0.5555555555555556,
              "#d8576b"
             ],
             [
              0.6666666666666666,
              "#ed7953"
             ],
             [
              0.7777777777777778,
              "#fb9f3a"
             ],
             [
              0.8888888888888888,
              "#fdca26"
             ],
             [
              1,
              "#f0f921"
             ]
            ],
            "type": "heatmap"
           }
          ],
          "heatmapgl": [
           {
            "colorbar": {
             "outlinewidth": 0,
             "ticks": ""
            },
            "colorscale": [
             [
              0,
              "#0d0887"
             ],
             [
              0.1111111111111111,
              "#46039f"
             ],
             [
              0.2222222222222222,
              "#7201a8"
             ],
             [
              0.3333333333333333,
              "#9c179e"
             ],
             [
              0.4444444444444444,
              "#bd3786"
             ],
             [
              0.5555555555555556,
              "#d8576b"
             ],
             [
              0.6666666666666666,
              "#ed7953"
             ],
             [
              0.7777777777777778,
              "#fb9f3a"
             ],
             [
              0.8888888888888888,
              "#fdca26"
             ],
             [
              1,
              "#f0f921"
             ]
            ],
            "type": "heatmapgl"
           }
          ],
          "histogram": [
           {
            "marker": {
             "pattern": {
              "fillmode": "overlay",
              "size": 10,
              "solidity": 0.2
             }
            },
            "type": "histogram"
           }
          ],
          "histogram2d": [
           {
            "colorbar": {
             "outlinewidth": 0,
             "ticks": ""
            },
            "colorscale": [
             [
              0,
              "#0d0887"
             ],
             [
              0.1111111111111111,
              "#46039f"
             ],
             [
              0.2222222222222222,
              "#7201a8"
             ],
             [
              0.3333333333333333,
              "#9c179e"
             ],
             [
              0.4444444444444444,
              "#bd3786"
             ],
             [
              0.5555555555555556,
              "#d8576b"
             ],
             [
              0.6666666666666666,
              "#ed7953"
             ],
             [
              0.7777777777777778,
              "#fb9f3a"
             ],
             [
              0.8888888888888888,
              "#fdca26"
             ],
             [
              1,
              "#f0f921"
             ]
            ],
            "type": "histogram2d"
           }
          ],
          "histogram2dcontour": [
           {
            "colorbar": {
             "outlinewidth": 0,
             "ticks": ""
            },
            "colorscale": [
             [
              0,
              "#0d0887"
             ],
             [
              0.1111111111111111,
              "#46039f"
             ],
             [
              0.2222222222222222,
              "#7201a8"
             ],
             [
              0.3333333333333333,
              "#9c179e"
             ],
             [
              0.4444444444444444,
              "#bd3786"
             ],
             [
              0.5555555555555556,
              "#d8576b"
             ],
             [
              0.6666666666666666,
              "#ed7953"
             ],
             [
              0.7777777777777778,
              "#fb9f3a"
             ],
             [
              0.8888888888888888,
              "#fdca26"
             ],
             [
              1,
              "#f0f921"
             ]
            ],
            "type": "histogram2dcontour"
           }
          ],
          "mesh3d": [
           {
            "colorbar": {
             "outlinewidth": 0,
             "ticks": ""
            },
            "type": "mesh3d"
           }
          ],
          "parcoords": [
           {
            "line": {
             "colorbar": {
              "outlinewidth": 0,
              "ticks": ""
             }
            },
            "type": "parcoords"
           }
          ],
          "pie": [
           {
            "automargin": true,
            "type": "pie"
           }
          ],
          "scatter": [
           {
            "fillpattern": {
             "fillmode": "overlay",
             "size": 10,
             "solidity": 0.2
            },
            "type": "scatter"
           }
          ],
          "scatter3d": [
           {
            "line": {
             "colorbar": {
              "outlinewidth": 0,
              "ticks": ""
             }
            },
            "marker": {
             "colorbar": {
              "outlinewidth": 0,
              "ticks": ""
             }
            },
            "type": "scatter3d"
           }
          ],
          "scattercarpet": [
           {
            "marker": {
             "colorbar": {
              "outlinewidth": 0,
              "ticks": ""
             }
            },
            "type": "scattercarpet"
           }
          ],
          "scattergeo": [
           {
            "marker": {
             "colorbar": {
              "outlinewidth": 0,
              "ticks": ""
             }
            },
            "type": "scattergeo"
           }
          ],
          "scattergl": [
           {
            "marker": {
             "colorbar": {
              "outlinewidth": 0,
              "ticks": ""
             }
            },
            "type": "scattergl"
           }
          ],
          "scattermapbox": [
           {
            "marker": {
             "colorbar": {
              "outlinewidth": 0,
              "ticks": ""
             }
            },
            "type": "scattermapbox"
           }
          ],
          "scatterpolar": [
           {
            "marker": {
             "colorbar": {
              "outlinewidth": 0,
              "ticks": ""
             }
            },
            "type": "scatterpolar"
           }
          ],
          "scatterpolargl": [
           {
            "marker": {
             "colorbar": {
              "outlinewidth": 0,
              "ticks": ""
             }
            },
            "type": "scatterpolargl"
           }
          ],
          "scatterternary": [
           {
            "marker": {
             "colorbar": {
              "outlinewidth": 0,
              "ticks": ""
             }
            },
            "type": "scatterternary"
           }
          ],
          "surface": [
           {
            "colorbar": {
             "outlinewidth": 0,
             "ticks": ""
            },
            "colorscale": [
             [
              0,
              "#0d0887"
             ],
             [
              0.1111111111111111,
              "#46039f"
             ],
             [
              0.2222222222222222,
              "#7201a8"
             ],
             [
              0.3333333333333333,
              "#9c179e"
             ],
             [
              0.4444444444444444,
              "#bd3786"
             ],
             [
              0.5555555555555556,
              "#d8576b"
             ],
             [
              0.6666666666666666,
              "#ed7953"
             ],
             [
              0.7777777777777778,
              "#fb9f3a"
             ],
             [
              0.8888888888888888,
              "#fdca26"
             ],
             [
              1,
              "#f0f921"
             ]
            ],
            "type": "surface"
           }
          ],
          "table": [
           {
            "cells": {
             "fill": {
              "color": "#EBF0F8"
             },
             "line": {
              "color": "white"
             }
            },
            "header": {
             "fill": {
              "color": "#C8D4E3"
             },
             "line": {
              "color": "white"
             }
            },
            "type": "table"
           }
          ]
         },
         "layout": {
          "annotationdefaults": {
           "arrowcolor": "#2a3f5f",
           "arrowhead": 0,
           "arrowwidth": 1
          },
          "autotypenumbers": "strict",
          "coloraxis": {
           "colorbar": {
            "outlinewidth": 0,
            "ticks": ""
           }
          },
          "colorscale": {
           "diverging": [
            [
             0,
             "#8e0152"
            ],
            [
             0.1,
             "#c51b7d"
            ],
            [
             0.2,
             "#de77ae"
            ],
            [
             0.3,
             "#f1b6da"
            ],
            [
             0.4,
             "#fde0ef"
            ],
            [
             0.5,
             "#f7f7f7"
            ],
            [
             0.6,
             "#e6f5d0"
            ],
            [
             0.7,
             "#b8e186"
            ],
            [
             0.8,
             "#7fbc41"
            ],
            [
             0.9,
             "#4d9221"
            ],
            [
             1,
             "#276419"
            ]
           ],
           "sequential": [
            [
             0,
             "#0d0887"
            ],
            [
             0.1111111111111111,
             "#46039f"
            ],
            [
             0.2222222222222222,
             "#7201a8"
            ],
            [
             0.3333333333333333,
             "#9c179e"
            ],
            [
             0.4444444444444444,
             "#bd3786"
            ],
            [
             0.5555555555555556,
             "#d8576b"
            ],
            [
             0.6666666666666666,
             "#ed7953"
            ],
            [
             0.7777777777777778,
             "#fb9f3a"
            ],
            [
             0.8888888888888888,
             "#fdca26"
            ],
            [
             1,
             "#f0f921"
            ]
           ],
           "sequentialminus": [
            [
             0,
             "#0d0887"
            ],
            [
             0.1111111111111111,
             "#46039f"
            ],
            [
             0.2222222222222222,
             "#7201a8"
            ],
            [
             0.3333333333333333,
             "#9c179e"
            ],
            [
             0.4444444444444444,
             "#bd3786"
            ],
            [
             0.5555555555555556,
             "#d8576b"
            ],
            [
             0.6666666666666666,
             "#ed7953"
            ],
            [
             0.7777777777777778,
             "#fb9f3a"
            ],
            [
             0.8888888888888888,
             "#fdca26"
            ],
            [
             1,
             "#f0f921"
            ]
           ]
          },
          "colorway": [
           "#636efa",
           "#EF553B",
           "#00cc96",
           "#ab63fa",
           "#FFA15A",
           "#19d3f3",
           "#FF6692",
           "#B6E880",
           "#FF97FF",
           "#FECB52"
          ],
          "font": {
           "color": "#2a3f5f"
          },
          "geo": {
           "bgcolor": "white",
           "lakecolor": "white",
           "landcolor": "white",
           "showlakes": true,
           "showland": true,
           "subunitcolor": "#C8D4E3"
          },
          "hoverlabel": {
           "align": "left"
          },
          "hovermode": "closest",
          "mapbox": {
           "style": "light"
          },
          "paper_bgcolor": "white",
          "plot_bgcolor": "white",
          "polar": {
           "angularaxis": {
            "gridcolor": "#EBF0F8",
            "linecolor": "#EBF0F8",
            "ticks": ""
           },
           "bgcolor": "white",
           "radialaxis": {
            "gridcolor": "#EBF0F8",
            "linecolor": "#EBF0F8",
            "ticks": ""
           }
          },
          "scene": {
           "xaxis": {
            "backgroundcolor": "white",
            "gridcolor": "#DFE8F3",
            "gridwidth": 2,
            "linecolor": "#EBF0F8",
            "showbackground": true,
            "ticks": "",
            "zerolinecolor": "#EBF0F8"
           },
           "yaxis": {
            "backgroundcolor": "white",
            "gridcolor": "#DFE8F3",
            "gridwidth": 2,
            "linecolor": "#EBF0F8",
            "showbackground": true,
            "ticks": "",
            "zerolinecolor": "#EBF0F8"
           },
           "zaxis": {
            "backgroundcolor": "white",
            "gridcolor": "#DFE8F3",
            "gridwidth": 2,
            "linecolor": "#EBF0F8",
            "showbackground": true,
            "ticks": "",
            "zerolinecolor": "#EBF0F8"
           }
          },
          "shapedefaults": {
           "line": {
            "color": "#2a3f5f"
           }
          },
          "ternary": {
           "aaxis": {
            "gridcolor": "#DFE8F3",
            "linecolor": "#A2B1C6",
            "ticks": ""
           },
           "baxis": {
            "gridcolor": "#DFE8F3",
            "linecolor": "#A2B1C6",
            "ticks": ""
           },
           "bgcolor": "white",
           "caxis": {
            "gridcolor": "#DFE8F3",
            "linecolor": "#A2B1C6",
            "ticks": ""
           }
          },
          "title": {
           "x": 0.05
          },
          "xaxis": {
           "automargin": true,
           "gridcolor": "#EBF0F8",
           "linecolor": "#EBF0F8",
           "ticks": "",
           "title": {
            "standoff": 15
           },
           "zerolinecolor": "#EBF0F8",
           "zerolinewidth": 2
          },
          "yaxis": {
           "automargin": true,
           "gridcolor": "#EBF0F8",
           "linecolor": "#EBF0F8",
           "ticks": "",
           "title": {
            "standoff": 15
           },
           "zerolinecolor": "#EBF0F8",
           "zerolinewidth": 2
          }
         }
        },
        "title": {
         "font": {
          "color": "Black",
          "size": 22
         },
         "text": "<b>Hierarchical Clustering</b>",
         "x": 0.5,
         "xanchor": "center",
         "yanchor": "top"
        },
        "width": 1000,
        "xaxis": {
         "mirror": "allticks",
         "rangemode": "tozero",
         "showgrid": false,
         "showline": true,
         "showticklabels": true,
         "ticks": "outside",
         "type": "linear",
         "zeroline": false
        },
        "yaxis": {
         "mirror": "allticks",
         "range": [
          -130,
          0
         ],
         "rangemode": "tozero",
         "showgrid": false,
         "showline": true,
         "showticklabels": true,
         "tickmode": "array",
         "ticks": "outside",
         "ticktext": [
          "4_自费_免疫药_关心",
          "12_自费_免疫_靶向药",
          "6_不配_活_干部",
          "1_铺展_上班_级别",
          "7_害怕_假_真",
          "10_复诊_明天_抽",
          "11_引流_美国人_日本",
          "2_解决_质量_集采",
          "3_抵达_边缘_这下",
          "0_集采_药_药品",
          "8_阿司匹林_企业_实验",
          "9_胶囊_洋抖_在意",
          "5_无聊_特么_洋抖"
         ],
         "tickvals": [
          -5,
          -15,
          -25,
          -35,
          -45,
          -55,
          -65,
          -75,
          -85,
          -95,
          -105,
          -115,
          -125
         ],
         "type": "linear",
         "zeroline": false
        }
       }
      }
     },
     "metadata": {},
     "output_type": "display_data"
    }
   ],
   "source": [
    "# Visualize hierarchy with custom labels\n",
    "topic_model.visualize_hierarchy()"
   ]
  },
  {
   "cell_type": "code",
   "execution_count": 28,
   "metadata": {},
   "outputs": [
    {
     "name": "stderr",
     "output_type": "stream",
     "text": [
      "20it [00:00, 62.38it/s]\n"
     ]
    }
   ],
   "source": [
    "topics_over_time = topic_model.topics_over_time(data['content'], data['date'], nr_bins=20)"
   ]
  },
  {
   "cell_type": "code",
   "execution_count": 54,
   "metadata": {},
   "outputs": [
    {
     "data": {
      "application/vnd.plotly.v1+json": {
       "config": {
        "plotlyServerURL": "https://plot.ly"
       },
       "data": [
        {
         "hoverinfo": "text",
         "hovertext": [
          "<b>Topic 0</b><br>Words: 财联社, 18, 36, 来源, 01",
          "<b>Topic 0</b><br>Words: 2025, 元, 96, 23, 93",
          "<b>Topic 0</b><br>Words: 爱柯迪, 5亿元, 医保, 年, 恒瑞医药",
          "<b>Topic 0</b><br>Words: 新华制药, 鲁抗医药, 11, 哈药股份, 华北制药",
          "<b>Topic 0</b><br>Words: 2024年12月12日, 前不久, 国家医保局, 意外, 回应",
          "<b>Topic 0</b><br>Words: 中国, 玛巴洛沙韦, 盒, 独家, 北京",
          "<b>Topic 0</b><br>Words: 中国, 地板价, 原研药, 出海, 9亿元",
          "<b>Topic 0</b><br>Words: 地板价, 日前, 背后, 医保, 详情",
          "<b>Topic 0</b><br>Words: 地板价, 日前, 背后, 同比, 2024年12月30日",
          "<b>Topic 0</b><br>Words: 事实上, 一言难尽, 来源, 同仁堂, 下一步",
          "<b>Topic 0</b><br>Words: 老药, 国家医保局, cn, http, t",
          "<b>Topic 0</b><br>Words: 国家医保局, 二, 三, 20, 集采",
          "<b>Topic 0</b><br>Words: 近日, 上海市, 期间, 两会, 20日",
          "<b>Topic 0</b><br>Words: 片, 近期, 石药集团, 近日, 2024年",
          "<b>Topic 0</b><br>Words: 动, 老药, 80, 18元, 40",
          "<b>Topic 0</b><br>Words: 近日, 集采, 2018年, 阿司匹林肠溶片, 两会",
          "<b>Topic 0</b><br>Words: 南风窗, 93, 片, 近期, 泻药",
          "<b>Topic 0</b><br>Words: deepseek, 遗产, 11, 原研药, 第三",
          "<b>Topic 0</b><br>Words: 第三, 三角, app, 感觉, 血糖",
          "<b>Topic 0</b><br>Words: 5亿元, 进口药, 7元, deepseek, 仿制药"
         ],
         "marker": {
          "color": "#E69F00"
         },
         "mode": "lines",
         "name": "0_集采_药_药品_医生",
         "type": "scatter",
         "x": [
          "2024-12-31T23:57:28.620000",
          "2025-01-02T13:48:09",
          "2025-01-04T02:54:18",
          "2025-01-05T16:00:27",
          "2025-01-07T05:06:36",
          "2025-01-08T18:12:45",
          "2025-01-10T07:18:54",
          "2025-01-11T20:25:03",
          "2025-01-13T09:31:12",
          "2025-01-14T22:37:21",
          "2025-01-16T11:43:30",
          "2025-01-18T00:49:39",
          "2025-01-19T13:55:48",
          "2025-01-21T03:01:57",
          "2025-01-22T16:08:06",
          "2025-01-24T05:14:15",
          "2025-01-25T18:20:24",
          "2025-01-27T07:26:33",
          "2025-01-28T20:32:42",
          "2025-01-30T09:38:51"
         ],
         "y": [
          137,
          153,
          105,
          122,
          154,
          78,
          76,
          168,
          403,
          776,
          934,
          1403,
          3449,
          3308,
          2125,
          2122,
          1463,
          747,
          154,
          329
         ]
        },
        {
         "hoverinfo": "text",
         "hovertext": [
          "<b>Topic 1</b><br>Words: chsnwwii, 铺展, 上班, 级别, 指标",
          "<b>Topic 1</b><br>Words: chsnwwii, 铺展, 上班, 级别, 指标",
          "<b>Topic 1</b><br>Words: 铺展, 上班, 级别, 指标, 受",
          "<b>Topic 1</b><br>Words: chsnwwii, 铺展, 上班, 级别, 指标",
          "<b>Topic 1</b><br>Words: 铺展, 上班, 级别, 指标, 受",
          "<b>Topic 1</b><br>Words: 铺展, 上班, 级别, 指标, 受",
          "<b>Topic 1</b><br>Words: 铺展, 上班, 级别, 指标, 受",
          "<b>Topic 1</b><br>Words: 铺展, 上班, 级别, 指标, 受",
          "<b>Topic 1</b><br>Words: 铺展, 上班, 级别, 指标, 受",
          "<b>Topic 1</b><br>Words: 铺展, 上班, 级别, 指标, 受",
          "<b>Topic 1</b><br>Words: 铺展, 上班, 级别, 指标, 受"
         ],
         "marker": {
          "color": "#56B4E9"
         },
         "mode": "lines",
         "name": "1_铺展_上班_级别_指标",
         "type": "scatter",
         "x": [
          "2025-01-13T09:31:12",
          "2025-01-14T22:37:21",
          "2025-01-16T11:43:30",
          "2025-01-18T00:49:39",
          "2025-01-19T13:55:48",
          "2025-01-21T03:01:57",
          "2025-01-22T16:08:06",
          "2025-01-25T18:20:24",
          "2025-01-27T07:26:33",
          "2025-01-28T20:32:42",
          "2025-01-30T09:38:51"
         ],
         "y": [
          203,
          823,
          689,
          170,
          45,
          9,
          1,
          1,
          1,
          2,
          1
         ]
        },
        {
         "hoverinfo": "text",
         "hovertext": [
          "<b>Topic 2</b><br>Words: a股, 财经, 自费, 免疫药, 关心",
          "<b>Topic 2</b><br>Words: 自费, 免疫药, 关心, 靶向药, 癌症",
          "<b>Topic 2</b><br>Words: 自费, 免疫药, 关心, 靶向药, 癌症",
          "<b>Topic 2</b><br>Words: 自费, 免疫药, 关心, 靶向药, 癌症",
          "<b>Topic 2</b><br>Words: 自费, 免疫药, 关心, 靶向药, 癌症",
          "<b>Topic 2</b><br>Words: 自费, 免疫药, 关心, 靶向药, 癌症",
          "<b>Topic 2</b><br>Words: 自费, 免疫药, 关心, 靶向药, 癌症",
          "<b>Topic 2</b><br>Words: 自费, 免疫药, 关心, 靶向药, 癌症",
          "<b>Topic 2</b><br>Words: 自费, 免疫药, 关心, 靶向药, 癌症",
          "<b>Topic 2</b><br>Words: 自费, 免疫药, 关心, 靶向药, 癌症"
         ],
         "marker": {
          "color": "#009E73"
         },
         "mode": "lines",
         "name": "2_解决_质量_集采_垃圾",
         "type": "scatter",
         "x": [
          "2025-01-08T18:12:45",
          "2025-01-13T09:31:12",
          "2025-01-14T22:37:21",
          "2025-01-16T11:43:30",
          "2025-01-18T00:49:39",
          "2025-01-19T13:55:48",
          "2025-01-21T03:01:57",
          "2025-01-22T16:08:06",
          "2025-01-28T20:32:42",
          "2025-01-30T09:38:51"
         ],
         "y": [
          9,
          179,
          563,
          605,
          154,
          41,
          6,
          1,
          1,
          1
         ]
        },
        {
         "hoverinfo": "text",
         "hovertext": [
          "<b>Topic 3</b><br>Words: 解决, 质量, 集采, 垃圾, l",
          "<b>Topic 3</b><br>Words: l, 解决, 质量, 集采, 垃圾",
          "<b>Topic 3</b><br>Words: 解决, 质量, 集采, 垃圾, l",
          "<b>Topic 3</b><br>Words: 解决, 质量, 集采, 垃圾, l"
         ],
         "marker": {
          "color": "#F0E442"
         },
         "mode": "lines",
         "name": "3_抵达_边缘_这下_恐惧",
         "type": "scatter",
         "x": [
          "2025-01-14T22:37:21",
          "2025-01-16T11:43:30",
          "2025-01-18T00:49:39",
          "2025-01-25T18:20:24"
         ],
         "y": [
          691,
          753,
          112,
          1
         ]
        },
        {
         "hoverinfo": "text",
         "hovertext": [
          "<b>Topic 4</b><br>Words: 抵达, 边缘, 这下, 恐惧, 医护",
          "<b>Topic 4</b><br>Words: 抵达, 边缘, 这下, 恐惧, 医护",
          "<b>Topic 4</b><br>Words: 抵达, 边缘, 这下, 恐惧, 医护",
          "<b>Topic 4</b><br>Words: 抵达, 边缘, 这下, 恐惧, 医护"
         ],
         "marker": {
          "color": "#D55E00"
         },
         "mode": "lines",
         "name": "4_自费_免疫药_关心_靶向药",
         "type": "scatter",
         "x": [
          "2025-01-11T20:25:03",
          "2025-01-14T22:37:21",
          "2025-01-16T11:43:30",
          "2025-01-18T00:49:39"
         ],
         "y": [
          1,
          709,
          729,
          112
         ]
        },
        {
         "hoverinfo": "text",
         "hovertext": [
          "<b>Topic 5</b><br>Words: 无聊, 特么, 洋抖, 在意, 小红书",
          "<b>Topic 5</b><br>Words: 无聊, 特么, 洋抖, 在意, 小红书",
          "<b>Topic 5</b><br>Words: 无聊, 特么, 洋抖, 在意, 小红书"
         ],
         "marker": {
          "color": "#0072B2"
         },
         "mode": "lines",
         "name": "5_无聊_特么_洋抖_在意",
         "type": "scatter",
         "x": [
          "2025-01-14T22:37:21",
          "2025-01-16T11:43:30",
          "2025-01-18T00:49:39"
         ],
         "y": [
          380,
          659,
          90
         ]
        },
        {
         "hoverinfo": "text",
         "hovertext": [
          "<b>Topic 6</b><br>Words: 不配, 活, 干部, 计较, 畜生",
          "<b>Topic 6</b><br>Words: 不配, 活, 干部, 计较, 畜生",
          "<b>Topic 6</b><br>Words: 不配, 活, 干部, 计较, 畜生",
          "<b>Topic 6</b><br>Words: 不配, 活, 干部, 计较, 畜生",
          "<b>Topic 6</b><br>Words: 不配, 活, 干部, 计较, 畜生",
          "<b>Topic 6</b><br>Words: 不配, 活, 干部, 计较, 畜生",
          "<b>Topic 6</b><br>Words: 不配, 活, 干部, 计较, 畜生",
          "<b>Topic 6</b><br>Words: 不配, 活, 干部, 计较, 畜生",
          "<b>Topic 6</b><br>Words: 不配, 活, 干部, 计较, 畜生",
          "<b>Topic 6</b><br>Words: 不配, 活, 干部, 计较, 畜生",
          "<b>Topic 6</b><br>Words: 不配, 活, 干部, 计较, 畜生"
         ],
         "marker": {
          "color": "#CC79A7"
         },
         "mode": "lines",
         "name": "6_不配_活_干部_计较",
         "type": "scatter",
         "x": [
          "2025-01-13T09:31:12",
          "2025-01-14T22:37:21",
          "2025-01-16T11:43:30",
          "2025-01-18T00:49:39",
          "2025-01-19T13:55:48",
          "2025-01-21T03:01:57",
          "2025-01-22T16:08:06",
          "2025-01-24T05:14:15",
          "2025-01-25T18:20:24",
          "2025-01-27T07:26:33",
          "2025-01-28T20:32:42"
         ],
         "y": [
          173,
          515,
          171,
          56,
          14,
          4,
          1,
          1,
          1,
          1,
          1
         ]
        },
        {
         "hoverinfo": "text",
         "hovertext": [
          "<b>Topic 7</b><br>Words: 害怕, 假, 真, 吓人, 敢",
          "<b>Topic 7</b><br>Words: 害怕, 假, 真, 吓人, 敢",
          "<b>Topic 7</b><br>Words: 害怕, 假, 真, 吓人, 敢"
         ],
         "marker": {
          "color": "#E69F00"
         },
         "mode": "lines",
         "name": "7_害怕_假_真_吓人",
         "type": "scatter",
         "x": [
          "2025-01-14T22:37:21",
          "2025-01-16T11:43:30",
          "2025-01-18T00:49:39"
         ],
         "y": [
          44,
          291,
          23
         ]
        },
        {
         "hoverinfo": "text",
         "hovertext": [
          "<b>Topic 8</b><br>Words: 洋抖, 在意, 事, 仿造, 正",
          "<b>Topic 8</b><br>Words: 洋抖, 在意, 事, 仿造, 正",
          "<b>Topic 8</b><br>Words: 洋抖, 在意, 事, 仿造, 正",
          "<b>Topic 8</b><br>Words: 附, http, cn, t, 洋抖",
          "<b>Topic 8</b><br>Words: 附, 洋抖, 在意, 事, 仿造",
          "<b>Topic 8</b><br>Words: 洋抖, 在意, 事, 仿造, 正",
          "<b>Topic 8</b><br>Words: 洋抖, 在意, 事, 仿造, 正",
          "<b>Topic 8</b><br>Words: 洋抖, 在意, 事, 仿造, 正",
          "<b>Topic 8</b><br>Words: 洋抖, 在意, 事, 仿造, 正"
         ],
         "marker": {
          "color": "#56B4E9"
         },
         "mode": "lines",
         "name": "8_阿司匹林_企业_实验_成本",
         "type": "scatter",
         "x": [
          "2025-01-14T22:37:21",
          "2025-01-16T11:43:30",
          "2025-01-18T00:49:39",
          "2025-01-19T13:55:48",
          "2025-01-21T03:01:57",
          "2025-01-22T16:08:06",
          "2025-01-24T05:14:15",
          "2025-01-25T18:20:24",
          "2025-01-28T20:32:42"
         ],
         "y": [
          148,
          56,
          20,
          16,
          5,
          1,
          41,
          3,
          1
         ]
        },
        {
         "hoverinfo": "text",
         "hovertext": [
          "<b>Topic 9</b><br>Words: 复诊, 明天, 抽, 正好, 血",
          "<b>Topic 9</b><br>Words: 复诊, 明天, 抽, 正好, 血",
          "<b>Topic 9</b><br>Words: 复诊, 明天, 抽, 正好, 血",
          "<b>Topic 9</b><br>Words: 缺一不可, 剖腹产, ps, 复诊, 明天",
          "<b>Topic 9</b><br>Words: 复诊, 明天, 抽, 正好, 血",
          "<b>Topic 9</b><br>Words: 财新网, 新京报, 南风窗, 复诊, 明天"
         ],
         "marker": {
          "color": "#009E73"
         },
         "mode": "lines",
         "name": "9_胶囊_洋抖_在意_颗粒",
         "type": "scatter",
         "x": [
          "2025-01-14T22:37:21",
          "2025-01-16T11:43:30",
          "2025-01-18T00:49:39",
          "2025-01-24T05:14:15",
          "2025-01-25T18:20:24",
          "2025-01-30T09:38:51"
         ],
         "y": [
          1,
          231,
          11,
          1,
          22,
          1
         ]
        },
        {
         "hoverinfo": "text",
         "hovertext": [
          "<b>Topic 10</b><br>Words: 机制, 反对, 评价, 懂, 旗帜",
          "<b>Topic 10</b><br>Words: 机制, 反对, 评价, 懂, 旗帜",
          "<b>Topic 10</b><br>Words: 来去之间, 机制, 反对, 评价, 懂",
          "<b>Topic 10</b><br>Words: 机制, 反对, 评价, 懂, 旗帜",
          "<b>Topic 10</b><br>Words: 机制, 反对, 评价, 懂, 旗帜"
         ],
         "marker": {
          "color": "#F0E442"
         },
         "mode": "lines",
         "name": "10_复诊_明天_抽_正好",
         "type": "scatter",
         "x": [
          "2025-01-16T11:43:30",
          "2025-01-18T00:49:39",
          "2025-01-19T13:55:48",
          "2025-01-21T03:01:57",
          "2025-01-22T16:08:06"
         ],
         "y": [
          13,
          83,
          140,
          7,
          1
         ]
        },
        {
         "hoverinfo": "text",
         "hovertext": [
          "<b>Topic 11</b><br>Words: 引流, 美国人, 日本, 公众, 至少",
          "<b>Topic 11</b><br>Words: 引流, 美国人, 日本, 公众, 至少",
          "<b>Topic 11</b><br>Words: 引流, 美国人, 日本, 公众, 至少",
          "<b>Topic 11</b><br>Words: 引流, 美国人, 日本, 公众, 至少",
          "<b>Topic 11</b><br>Words: 引流, 美国人, 日本, 公众, 至少",
          "<b>Topic 11</b><br>Words: 引流, 美国人, 日本, 公众, 至少"
         ],
         "marker": {
          "color": "#D55E00"
         },
         "mode": "lines",
         "name": "11_引流_美国人_日本_公众",
         "type": "scatter",
         "x": [
          "2025-01-18T00:49:39",
          "2025-01-19T13:55:48",
          "2025-01-21T03:01:57",
          "2025-01-22T16:08:06",
          "2025-01-25T18:20:24",
          "2025-01-27T07:26:33"
         ],
         "y": [
          154,
          70,
          15,
          2,
          1,
          1
         ]
        },
        {
         "hoverinfo": "text",
         "hovertext": [
          "<b>Topic 12</b><br>Words: 自费, 免疫, 靶向药, 癌症, 买",
          "<b>Topic 12</b><br>Words: 自费, 免疫, 靶向药, 癌症, 买",
          "<b>Topic 12</b><br>Words: 自费, 免疫, 靶向药, 癌症, 买",
          "<b>Topic 12</b><br>Words: 自费, 免疫, 靶向药, 癌症, 买",
          "<b>Topic 12</b><br>Words: 自费, 免疫, 靶向药, 癌症, 买",
          "<b>Topic 12</b><br>Words: 自费, 免疫, 靶向药, 癌症, 买",
          "<b>Topic 12</b><br>Words: 自费, 免疫, 靶向药, 癌症, 买"
         ],
         "marker": {
          "color": "#0072B2"
         },
         "mode": "lines",
         "name": "12_自费_免疫_靶向药_癌症",
         "type": "scatter",
         "x": [
          "2025-01-13T09:31:12",
          "2025-01-14T22:37:21",
          "2025-01-16T11:43:30",
          "2025-01-18T00:49:39",
          "2025-01-19T13:55:48",
          "2025-01-27T07:26:33",
          "2025-01-28T20:32:42"
         ],
         "y": [
          13,
          168,
          41,
          8,
          2,
          1,
          1
         ]
        }
       ],
       "layout": {
        "height": 450,
        "hoverlabel": {
         "bgcolor": "white",
         "font": {
          "family": "Rockwell",
          "size": 16
         }
        },
        "legend": {
         "title": {
          "text": "<b>Global Topic Representation"
         }
        },
        "template": {
         "data": {
          "bar": [
           {
            "error_x": {
             "color": "rgb(36,36,36)"
            },
            "error_y": {
             "color": "rgb(36,36,36)"
            },
            "marker": {
             "line": {
              "color": "white",
              "width": 0.5
             },
             "pattern": {
              "fillmode": "overlay",
              "size": 10,
              "solidity": 0.2
             }
            },
            "type": "bar"
           }
          ],
          "barpolar": [
           {
            "marker": {
             "line": {
              "color": "white",
              "width": 0.5
             },
             "pattern": {
              "fillmode": "overlay",
              "size": 10,
              "solidity": 0.2
             }
            },
            "type": "barpolar"
           }
          ],
          "carpet": [
           {
            "aaxis": {
             "endlinecolor": "rgb(36,36,36)",
             "gridcolor": "white",
             "linecolor": "white",
             "minorgridcolor": "white",
             "startlinecolor": "rgb(36,36,36)"
            },
            "baxis": {
             "endlinecolor": "rgb(36,36,36)",
             "gridcolor": "white",
             "linecolor": "white",
             "minorgridcolor": "white",
             "startlinecolor": "rgb(36,36,36)"
            },
            "type": "carpet"
           }
          ],
          "choropleth": [
           {
            "colorbar": {
             "outlinewidth": 1,
             "tickcolor": "rgb(36,36,36)",
             "ticks": "outside"
            },
            "type": "choropleth"
           }
          ],
          "contour": [
           {
            "colorbar": {
             "outlinewidth": 1,
             "tickcolor": "rgb(36,36,36)",
             "ticks": "outside"
            },
            "colorscale": [
             [
              0,
              "#440154"
             ],
             [
              0.1111111111111111,
              "#482878"
             ],
             [
              0.2222222222222222,
              "#3e4989"
             ],
             [
              0.3333333333333333,
              "#31688e"
             ],
             [
              0.4444444444444444,
              "#26828e"
             ],
             [
              0.5555555555555556,
              "#1f9e89"
             ],
             [
              0.6666666666666666,
              "#35b779"
             ],
             [
              0.7777777777777778,
              "#6ece58"
             ],
             [
              0.8888888888888888,
              "#b5de2b"
             ],
             [
              1,
              "#fde725"
             ]
            ],
            "type": "contour"
           }
          ],
          "contourcarpet": [
           {
            "colorbar": {
             "outlinewidth": 1,
             "tickcolor": "rgb(36,36,36)",
             "ticks": "outside"
            },
            "type": "contourcarpet"
           }
          ],
          "heatmap": [
           {
            "colorbar": {
             "outlinewidth": 1,
             "tickcolor": "rgb(36,36,36)",
             "ticks": "outside"
            },
            "colorscale": [
             [
              0,
              "#440154"
             ],
             [
              0.1111111111111111,
              "#482878"
             ],
             [
              0.2222222222222222,
              "#3e4989"
             ],
             [
              0.3333333333333333,
              "#31688e"
             ],
             [
              0.4444444444444444,
              "#26828e"
             ],
             [
              0.5555555555555556,
              "#1f9e89"
             ],
             [
              0.6666666666666666,
              "#35b779"
             ],
             [
              0.7777777777777778,
              "#6ece58"
             ],
             [
              0.8888888888888888,
              "#b5de2b"
             ],
             [
              1,
              "#fde725"
             ]
            ],
            "type": "heatmap"
           }
          ],
          "heatmapgl": [
           {
            "colorbar": {
             "outlinewidth": 1,
             "tickcolor": "rgb(36,36,36)",
             "ticks": "outside"
            },
            "colorscale": [
             [
              0,
              "#440154"
             ],
             [
              0.1111111111111111,
              "#482878"
             ],
             [
              0.2222222222222222,
              "#3e4989"
             ],
             [
              0.3333333333333333,
              "#31688e"
             ],
             [
              0.4444444444444444,
              "#26828e"
             ],
             [
              0.5555555555555556,
              "#1f9e89"
             ],
             [
              0.6666666666666666,
              "#35b779"
             ],
             [
              0.7777777777777778,
              "#6ece58"
             ],
             [
              0.8888888888888888,
              "#b5de2b"
             ],
             [
              1,
              "#fde725"
             ]
            ],
            "type": "heatmapgl"
           }
          ],
          "histogram": [
           {
            "marker": {
             "line": {
              "color": "white",
              "width": 0.6
             }
            },
            "type": "histogram"
           }
          ],
          "histogram2d": [
           {
            "colorbar": {
             "outlinewidth": 1,
             "tickcolor": "rgb(36,36,36)",
             "ticks": "outside"
            },
            "colorscale": [
             [
              0,
              "#440154"
             ],
             [
              0.1111111111111111,
              "#482878"
             ],
             [
              0.2222222222222222,
              "#3e4989"
             ],
             [
              0.3333333333333333,
              "#31688e"
             ],
             [
              0.4444444444444444,
              "#26828e"
             ],
             [
              0.5555555555555556,
              "#1f9e89"
             ],
             [
              0.6666666666666666,
              "#35b779"
             ],
             [
              0.7777777777777778,
              "#6ece58"
             ],
             [
              0.8888888888888888,
              "#b5de2b"
             ],
             [
              1,
              "#fde725"
             ]
            ],
            "type": "histogram2d"
           }
          ],
          "histogram2dcontour": [
           {
            "colorbar": {
             "outlinewidth": 1,
             "tickcolor": "rgb(36,36,36)",
             "ticks": "outside"
            },
            "colorscale": [
             [
              0,
              "#440154"
             ],
             [
              0.1111111111111111,
              "#482878"
             ],
             [
              0.2222222222222222,
              "#3e4989"
             ],
             [
              0.3333333333333333,
              "#31688e"
             ],
             [
              0.4444444444444444,
              "#26828e"
             ],
             [
              0.5555555555555556,
              "#1f9e89"
             ],
             [
              0.6666666666666666,
              "#35b779"
             ],
             [
              0.7777777777777778,
              "#6ece58"
             ],
             [
              0.8888888888888888,
              "#b5de2b"
             ],
             [
              1,
              "#fde725"
             ]
            ],
            "type": "histogram2dcontour"
           }
          ],
          "mesh3d": [
           {
            "colorbar": {
             "outlinewidth": 1,
             "tickcolor": "rgb(36,36,36)",
             "ticks": "outside"
            },
            "type": "mesh3d"
           }
          ],
          "parcoords": [
           {
            "line": {
             "colorbar": {
              "outlinewidth": 1,
              "tickcolor": "rgb(36,36,36)",
              "ticks": "outside"
             }
            },
            "type": "parcoords"
           }
          ],
          "pie": [
           {
            "automargin": true,
            "type": "pie"
           }
          ],
          "scatter": [
           {
            "fillpattern": {
             "fillmode": "overlay",
             "size": 10,
             "solidity": 0.2
            },
            "type": "scatter"
           }
          ],
          "scatter3d": [
           {
            "line": {
             "colorbar": {
              "outlinewidth": 1,
              "tickcolor": "rgb(36,36,36)",
              "ticks": "outside"
             }
            },
            "marker": {
             "colorbar": {
              "outlinewidth": 1,
              "tickcolor": "rgb(36,36,36)",
              "ticks": "outside"
             }
            },
            "type": "scatter3d"
           }
          ],
          "scattercarpet": [
           {
            "marker": {
             "colorbar": {
              "outlinewidth": 1,
              "tickcolor": "rgb(36,36,36)",
              "ticks": "outside"
             }
            },
            "type": "scattercarpet"
           }
          ],
          "scattergeo": [
           {
            "marker": {
             "colorbar": {
              "outlinewidth": 1,
              "tickcolor": "rgb(36,36,36)",
              "ticks": "outside"
             }
            },
            "type": "scattergeo"
           }
          ],
          "scattergl": [
           {
            "marker": {
             "colorbar": {
              "outlinewidth": 1,
              "tickcolor": "rgb(36,36,36)",
              "ticks": "outside"
             }
            },
            "type": "scattergl"
           }
          ],
          "scattermapbox": [
           {
            "marker": {
             "colorbar": {
              "outlinewidth": 1,
              "tickcolor": "rgb(36,36,36)",
              "ticks": "outside"
             }
            },
            "type": "scattermapbox"
           }
          ],
          "scatterpolar": [
           {
            "marker": {
             "colorbar": {
              "outlinewidth": 1,
              "tickcolor": "rgb(36,36,36)",
              "ticks": "outside"
             }
            },
            "type": "scatterpolar"
           }
          ],
          "scatterpolargl": [
           {
            "marker": {
             "colorbar": {
              "outlinewidth": 1,
              "tickcolor": "rgb(36,36,36)",
              "ticks": "outside"
             }
            },
            "type": "scatterpolargl"
           }
          ],
          "scatterternary": [
           {
            "marker": {
             "colorbar": {
              "outlinewidth": 1,
              "tickcolor": "rgb(36,36,36)",
              "ticks": "outside"
             }
            },
            "type": "scatterternary"
           }
          ],
          "surface": [
           {
            "colorbar": {
             "outlinewidth": 1,
             "tickcolor": "rgb(36,36,36)",
             "ticks": "outside"
            },
            "colorscale": [
             [
              0,
              "#440154"
             ],
             [
              0.1111111111111111,
              "#482878"
             ],
             [
              0.2222222222222222,
              "#3e4989"
             ],
             [
              0.3333333333333333,
              "#31688e"
             ],
             [
              0.4444444444444444,
              "#26828e"
             ],
             [
              0.5555555555555556,
              "#1f9e89"
             ],
             [
              0.6666666666666666,
              "#35b779"
             ],
             [
              0.7777777777777778,
              "#6ece58"
             ],
             [
              0.8888888888888888,
              "#b5de2b"
             ],
             [
              1,
              "#fde725"
             ]
            ],
            "type": "surface"
           }
          ],
          "table": [
           {
            "cells": {
             "fill": {
              "color": "rgb(237,237,237)"
             },
             "line": {
              "color": "white"
             }
            },
            "header": {
             "fill": {
              "color": "rgb(217,217,217)"
             },
             "line": {
              "color": "white"
             }
            },
            "type": "table"
           }
          ]
         },
         "layout": {
          "annotationdefaults": {
           "arrowhead": 0,
           "arrowwidth": 1
          },
          "autotypenumbers": "strict",
          "coloraxis": {
           "colorbar": {
            "outlinewidth": 1,
            "tickcolor": "rgb(36,36,36)",
            "ticks": "outside"
           }
          },
          "colorscale": {
           "diverging": [
            [
             0,
             "rgb(103,0,31)"
            ],
            [
             0.1,
             "rgb(178,24,43)"
            ],
            [
             0.2,
             "rgb(214,96,77)"
            ],
            [
             0.3,
             "rgb(244,165,130)"
            ],
            [
             0.4,
             "rgb(253,219,199)"
            ],
            [
             0.5,
             "rgb(247,247,247)"
            ],
            [
             0.6,
             "rgb(209,229,240)"
            ],
            [
             0.7,
             "rgb(146,197,222)"
            ],
            [
             0.8,
             "rgb(67,147,195)"
            ],
            [
             0.9,
             "rgb(33,102,172)"
            ],
            [
             1,
             "rgb(5,48,97)"
            ]
           ],
           "sequential": [
            [
             0,
             "#440154"
            ],
            [
             0.1111111111111111,
             "#482878"
            ],
            [
             0.2222222222222222,
             "#3e4989"
            ],
            [
             0.3333333333333333,
             "#31688e"
            ],
            [
             0.4444444444444444,
             "#26828e"
            ],
            [
             0.5555555555555556,
             "#1f9e89"
            ],
            [
             0.6666666666666666,
             "#35b779"
            ],
            [
             0.7777777777777778,
             "#6ece58"
            ],
            [
             0.8888888888888888,
             "#b5de2b"
            ],
            [
             1,
             "#fde725"
            ]
           ],
           "sequentialminus": [
            [
             0,
             "#440154"
            ],
            [
             0.1111111111111111,
             "#482878"
            ],
            [
             0.2222222222222222,
             "#3e4989"
            ],
            [
             0.3333333333333333,
             "#31688e"
            ],
            [
             0.4444444444444444,
             "#26828e"
            ],
            [
             0.5555555555555556,
             "#1f9e89"
            ],
            [
             0.6666666666666666,
             "#35b779"
            ],
            [
             0.7777777777777778,
             "#6ece58"
            ],
            [
             0.8888888888888888,
             "#b5de2b"
            ],
            [
             1,
             "#fde725"
            ]
           ]
          },
          "colorway": [
           "#1F77B4",
           "#FF7F0E",
           "#2CA02C",
           "#D62728",
           "#9467BD",
           "#8C564B",
           "#E377C2",
           "#7F7F7F",
           "#BCBD22",
           "#17BECF"
          ],
          "font": {
           "color": "rgb(36,36,36)"
          },
          "geo": {
           "bgcolor": "white",
           "lakecolor": "white",
           "landcolor": "white",
           "showlakes": true,
           "showland": true,
           "subunitcolor": "white"
          },
          "hoverlabel": {
           "align": "left"
          },
          "hovermode": "closest",
          "mapbox": {
           "style": "light"
          },
          "paper_bgcolor": "white",
          "plot_bgcolor": "white",
          "polar": {
           "angularaxis": {
            "gridcolor": "rgb(232,232,232)",
            "linecolor": "rgb(36,36,36)",
            "showgrid": false,
            "showline": true,
            "ticks": "outside"
           },
           "bgcolor": "white",
           "radialaxis": {
            "gridcolor": "rgb(232,232,232)",
            "linecolor": "rgb(36,36,36)",
            "showgrid": false,
            "showline": true,
            "ticks": "outside"
           }
          },
          "scene": {
           "xaxis": {
            "backgroundcolor": "white",
            "gridcolor": "rgb(232,232,232)",
            "gridwidth": 2,
            "linecolor": "rgb(36,36,36)",
            "showbackground": true,
            "showgrid": false,
            "showline": true,
            "ticks": "outside",
            "zeroline": false,
            "zerolinecolor": "rgb(36,36,36)"
           },
           "yaxis": {
            "backgroundcolor": "white",
            "gridcolor": "rgb(232,232,232)",
            "gridwidth": 2,
            "linecolor": "rgb(36,36,36)",
            "showbackground": true,
            "showgrid": false,
            "showline": true,
            "ticks": "outside",
            "zeroline": false,
            "zerolinecolor": "rgb(36,36,36)"
           },
           "zaxis": {
            "backgroundcolor": "white",
            "gridcolor": "rgb(232,232,232)",
            "gridwidth": 2,
            "linecolor": "rgb(36,36,36)",
            "showbackground": true,
            "showgrid": false,
            "showline": true,
            "ticks": "outside",
            "zeroline": false,
            "zerolinecolor": "rgb(36,36,36)"
           }
          },
          "shapedefaults": {
           "fillcolor": "black",
           "line": {
            "width": 0
           },
           "opacity": 0.3
          },
          "ternary": {
           "aaxis": {
            "gridcolor": "rgb(232,232,232)",
            "linecolor": "rgb(36,36,36)",
            "showgrid": false,
            "showline": true,
            "ticks": "outside"
           },
           "baxis": {
            "gridcolor": "rgb(232,232,232)",
            "linecolor": "rgb(36,36,36)",
            "showgrid": false,
            "showline": true,
            "ticks": "outside"
           },
           "bgcolor": "white",
           "caxis": {
            "gridcolor": "rgb(232,232,232)",
            "linecolor": "rgb(36,36,36)",
            "showgrid": false,
            "showline": true,
            "ticks": "outside"
           }
          },
          "title": {
           "x": 0.05
          },
          "xaxis": {
           "automargin": true,
           "gridcolor": "rgb(232,232,232)",
           "linecolor": "rgb(36,36,36)",
           "showgrid": false,
           "showline": true,
           "ticks": "outside",
           "title": {
            "standoff": 15
           },
           "zeroline": false,
           "zerolinecolor": "rgb(36,36,36)"
          },
          "yaxis": {
           "automargin": true,
           "gridcolor": "rgb(232,232,232)",
           "linecolor": "rgb(36,36,36)",
           "showgrid": false,
           "showline": true,
           "ticks": "outside",
           "title": {
            "standoff": 15
           },
           "zeroline": false,
           "zerolinecolor": "rgb(36,36,36)"
          }
         }
        },
        "title": {
         "font": {
          "color": "Black",
          "size": 22
         },
         "text": "<b>Topics over Time</b>",
         "x": 0.4,
         "xanchor": "center",
         "y": 0.95,
         "yanchor": "top"
        },
        "width": 1250,
        "xaxis": {
         "showgrid": true
        },
        "yaxis": {
         "showgrid": true,
         "title": {
          "text": "Frequency"
         }
        }
       }
      }
     },
     "metadata": {},
     "output_type": "display_data"
    }
   ],
   "source": [
    "topic_model.visualize_topics_over_time(topics_over_time, top_n_topics=20)\n"
   ]
  },
  {
   "cell_type": "code",
   "execution_count": null,
   "metadata": {},
   "outputs": [],
   "source": [
    "# Run the visualization with the original embeddings\n",
    "topic_model.visualize_hierarchical_documents(data['content'], hierarchical_topics, embeddings=embeddings)\n",
    "\n",
    "# Reduce dimensionality of embeddings, this step is optional but much faster to perform iteratively:\n",
    "reduced_embeddings = UMAP(n_neighbors=10, n_components=2, min_dist=0.0, metric='cosine').fit_transform(embeddings)\n",
    "topic_model.visualize_hierarchical_documents(docs, hierarchical_topics, reduced_embeddings=reduced_embeddings)"
   ]
  },
  {
   "cell_type": "code",
   "execution_count": 58,
   "metadata": {},
   "outputs": [
    {
     "data": {
      "application/vnd.plotly.v1+json": {
       "config": {
        "plotlyServerURL": "https://plot.ly"
       },
       "data": [
        {
         "marker": {
          "color": "#D55E00"
         },
         "orientation": "h",
         "type": "bar",
         "x": [
          0.022755534112114124,
          0.022848228678021963,
          0.03055234133407717,
          0.03617948786691259,
          0.04374504406989176
         ],
         "xaxis": "x",
         "y": [
          "质量  ",
          "医生  ",
          "药品  ",
          "药  ",
          "集采  "
         ],
         "yaxis": "y"
        },
        {
         "marker": {
          "color": "#0072B2"
         },
         "orientation": "h",
         "type": "bar",
         "x": [
          0.31839184352107497,
          0.32313781382248963,
          0.3295619646868461,
          0.3348853228891792,
          0.3360667505473208
         ],
         "xaxis": "x2",
         "y": [
          "受  ",
          "指标  ",
          "级别  ",
          "上班  ",
          "铺展  "
         ],
         "yaxis": "y2"
        },
        {
         "marker": {
          "color": "#CC79A7"
         },
         "orientation": "h",
         "type": "bar",
         "x": [
          0.0013323595883680736,
          0.0013944436705239887,
          0.3236319391879814,
          0.5834850802775886,
          1.0810049036035236
         ],
         "xaxis": "x3",
         "y": [
          "l  ",
          "垃圾  ",
          "集采  ",
          "质量  ",
          "解决  "
         ],
         "yaxis": "y3"
        },
        {
         "marker": {
          "color": "#E69F00"
         },
         "orientation": "h",
         "type": "bar",
         "x": [
          0.2911625386542475,
          0.29380476106630166,
          0.2949609952631719,
          0.2974204329064333,
          0.2974718380538341
         ],
         "xaxis": "x4",
         "y": [
          "医护  ",
          "恐惧  ",
          "这下  ",
          "边缘  ",
          "抵达  "
         ],
         "yaxis": "y4"
        },
        {
         "marker": {
          "color": "#56B4E9"
         },
         "orientation": "h",
         "type": "bar",
         "x": [
          0.3284764747528402,
          0.33573083066412307,
          0.3397077931172362,
          0.3551191735330618,
          0.5059703018699588
         ],
         "xaxis": "x5",
         "y": [
          "癌症  ",
          "靶向药  ",
          "关心  ",
          "免疫药  ",
          "自费  "
         ],
         "yaxis": "y5"
        },
        {
         "marker": {
          "color": "#009E73"
         },
         "orientation": "h",
         "type": "bar",
         "x": [
          0.6056312964477266,
          0.6156797163476526,
          0.6187700007928485,
          0.6414209368523279,
          0.6470694733496571
         ],
         "xaxis": "x6",
         "y": [
          "小红书  ",
          "在意  ",
          "洋抖  ",
          "特么  ",
          "无聊  "
         ],
         "yaxis": "y6"
        },
        {
         "marker": {
          "color": "#F0E442"
         },
         "orientation": "h",
         "type": "bar",
         "x": [
          0.003489645471855711,
          0.0036339839085379206,
          0.9645161051349639,
          1.2613965311005226,
          1.3471630471742733
         ],
         "xaxis": "x7",
         "y": [
          "畜生  ",
          "计较  ",
          "干部  ",
          "活  ",
          "不配  "
         ],
         "yaxis": "y7"
        },
        {
         "marker": {
          "color": "#D55E00"
         },
         "orientation": "h",
         "type": "bar",
         "x": [
          0.009024385490348443,
          0.014302518035305497,
          1.142705707436375,
          1.5578013296314066,
          1.620741293387668
         ],
         "xaxis": "x8",
         "y": [
          "敢  ",
          "吓人  ",
          "真  ",
          "假  ",
          "害怕  "
         ],
         "yaxis": "y8"
        }
       ],
       "layout": {
        "annotations": [
         {
          "font": {
           "size": 16
          },
          "showarrow": false,
          "text": "Topic 0",
          "x": 0.0875,
          "xanchor": "center",
          "xref": "paper",
          "y": 1,
          "yanchor": "bottom",
          "yref": "paper"
         },
         {
          "font": {
           "size": 16
          },
          "showarrow": false,
          "text": "Topic 1",
          "x": 0.36250000000000004,
          "xanchor": "center",
          "xref": "paper",
          "y": 1,
          "yanchor": "bottom",
          "yref": "paper"
         },
         {
          "font": {
           "size": 16
          },
          "showarrow": false,
          "text": "Topic 2",
          "x": 0.6375000000000001,
          "xanchor": "center",
          "xref": "paper",
          "y": 1,
          "yanchor": "bottom",
          "yref": "paper"
         },
         {
          "font": {
           "size": 16
          },
          "showarrow": false,
          "text": "Topic 3",
          "x": 0.9125,
          "xanchor": "center",
          "xref": "paper",
          "y": 1,
          "yanchor": "bottom",
          "yref": "paper"
         },
         {
          "font": {
           "size": 16
          },
          "showarrow": false,
          "text": "Topic 4",
          "x": 0.0875,
          "xanchor": "center",
          "xref": "paper",
          "y": 0.4,
          "yanchor": "bottom",
          "yref": "paper"
         },
         {
          "font": {
           "size": 16
          },
          "showarrow": false,
          "text": "Topic 5",
          "x": 0.36250000000000004,
          "xanchor": "center",
          "xref": "paper",
          "y": 0.4,
          "yanchor": "bottom",
          "yref": "paper"
         },
         {
          "font": {
           "size": 16
          },
          "showarrow": false,
          "text": "Topic 6",
          "x": 0.6375000000000001,
          "xanchor": "center",
          "xref": "paper",
          "y": 0.4,
          "yanchor": "bottom",
          "yref": "paper"
         },
         {
          "font": {
           "size": 16
          },
          "showarrow": false,
          "text": "Topic 7",
          "x": 0.9125,
          "xanchor": "center",
          "xref": "paper",
          "y": 0.4,
          "yanchor": "bottom",
          "yref": "paper"
         }
        ],
        "height": 500,
        "hoverlabel": {
         "bgcolor": "white",
         "font": {
          "family": "Rockwell",
          "size": 16
         }
        },
        "showlegend": false,
        "template": {
         "data": {
          "bar": [
           {
            "error_x": {
             "color": "#2a3f5f"
            },
            "error_y": {
             "color": "#2a3f5f"
            },
            "marker": {
             "line": {
              "color": "white",
              "width": 0.5
             },
             "pattern": {
              "fillmode": "overlay",
              "size": 10,
              "solidity": 0.2
             }
            },
            "type": "bar"
           }
          ],
          "barpolar": [
           {
            "marker": {
             "line": {
              "color": "white",
              "width": 0.5
             },
             "pattern": {
              "fillmode": "overlay",
              "size": 10,
              "solidity": 0.2
             }
            },
            "type": "barpolar"
           }
          ],
          "carpet": [
           {
            "aaxis": {
             "endlinecolor": "#2a3f5f",
             "gridcolor": "#C8D4E3",
             "linecolor": "#C8D4E3",
             "minorgridcolor": "#C8D4E3",
             "startlinecolor": "#2a3f5f"
            },
            "baxis": {
             "endlinecolor": "#2a3f5f",
             "gridcolor": "#C8D4E3",
             "linecolor": "#C8D4E3",
             "minorgridcolor": "#C8D4E3",
             "startlinecolor": "#2a3f5f"
            },
            "type": "carpet"
           }
          ],
          "choropleth": [
           {
            "colorbar": {
             "outlinewidth": 0,
             "ticks": ""
            },
            "type": "choropleth"
           }
          ],
          "contour": [
           {
            "colorbar": {
             "outlinewidth": 0,
             "ticks": ""
            },
            "colorscale": [
             [
              0,
              "#0d0887"
             ],
             [
              0.1111111111111111,
              "#46039f"
             ],
             [
              0.2222222222222222,
              "#7201a8"
             ],
             [
              0.3333333333333333,
              "#9c179e"
             ],
             [
              0.4444444444444444,
              "#bd3786"
             ],
             [
              0.5555555555555556,
              "#d8576b"
             ],
             [
              0.6666666666666666,
              "#ed7953"
             ],
             [
              0.7777777777777778,
              "#fb9f3a"
             ],
             [
              0.8888888888888888,
              "#fdca26"
             ],
             [
              1,
              "#f0f921"
             ]
            ],
            "type": "contour"
           }
          ],
          "contourcarpet": [
           {
            "colorbar": {
             "outlinewidth": 0,
             "ticks": ""
            },
            "type": "contourcarpet"
           }
          ],
          "heatmap": [
           {
            "colorbar": {
             "outlinewidth": 0,
             "ticks": ""
            },
            "colorscale": [
             [
              0,
              "#0d0887"
             ],
             [
              0.1111111111111111,
              "#46039f"
             ],
             [
              0.2222222222222222,
              "#7201a8"
             ],
             [
              0.3333333333333333,
              "#9c179e"
             ],
             [
              0.4444444444444444,
              "#bd3786"
             ],
             [
              0.5555555555555556,
              "#d8576b"
             ],
             [
              0.6666666666666666,
              "#ed7953"
             ],
             [
              0.7777777777777778,
              "#fb9f3a"
             ],
             [
              0.8888888888888888,
              "#fdca26"
             ],
             [
              1,
              "#f0f921"
             ]
            ],
            "type": "heatmap"
           }
          ],
          "heatmapgl": [
           {
            "colorbar": {
             "outlinewidth": 0,
             "ticks": ""
            },
            "colorscale": [
             [
              0,
              "#0d0887"
             ],
             [
              0.1111111111111111,
              "#46039f"
             ],
             [
              0.2222222222222222,
              "#7201a8"
             ],
             [
              0.3333333333333333,
              "#9c179e"
             ],
             [
              0.4444444444444444,
              "#bd3786"
             ],
             [
              0.5555555555555556,
              "#d8576b"
             ],
             [
              0.6666666666666666,
              "#ed7953"
             ],
             [
              0.7777777777777778,
              "#fb9f3a"
             ],
             [
              0.8888888888888888,
              "#fdca26"
             ],
             [
              1,
              "#f0f921"
             ]
            ],
            "type": "heatmapgl"
           }
          ],
          "histogram": [
           {
            "marker": {
             "pattern": {
              "fillmode": "overlay",
              "size": 10,
              "solidity": 0.2
             }
            },
            "type": "histogram"
           }
          ],
          "histogram2d": [
           {
            "colorbar": {
             "outlinewidth": 0,
             "ticks": ""
            },
            "colorscale": [
             [
              0,
              "#0d0887"
             ],
             [
              0.1111111111111111,
              "#46039f"
             ],
             [
              0.2222222222222222,
              "#7201a8"
             ],
             [
              0.3333333333333333,
              "#9c179e"
             ],
             [
              0.4444444444444444,
              "#bd3786"
             ],
             [
              0.5555555555555556,
              "#d8576b"
             ],
             [
              0.6666666666666666,
              "#ed7953"
             ],
             [
              0.7777777777777778,
              "#fb9f3a"
             ],
             [
              0.8888888888888888,
              "#fdca26"
             ],
             [
              1,
              "#f0f921"
             ]
            ],
            "type": "histogram2d"
           }
          ],
          "histogram2dcontour": [
           {
            "colorbar": {
             "outlinewidth": 0,
             "ticks": ""
            },
            "colorscale": [
             [
              0,
              "#0d0887"
             ],
             [
              0.1111111111111111,
              "#46039f"
             ],
             [
              0.2222222222222222,
              "#7201a8"
             ],
             [
              0.3333333333333333,
              "#9c179e"
             ],
             [
              0.4444444444444444,
              "#bd3786"
             ],
             [
              0.5555555555555556,
              "#d8576b"
             ],
             [
              0.6666666666666666,
              "#ed7953"
             ],
             [
              0.7777777777777778,
              "#fb9f3a"
             ],
             [
              0.8888888888888888,
              "#fdca26"
             ],
             [
              1,
              "#f0f921"
             ]
            ],
            "type": "histogram2dcontour"
           }
          ],
          "mesh3d": [
           {
            "colorbar": {
             "outlinewidth": 0,
             "ticks": ""
            },
            "type": "mesh3d"
           }
          ],
          "parcoords": [
           {
            "line": {
             "colorbar": {
              "outlinewidth": 0,
              "ticks": ""
             }
            },
            "type": "parcoords"
           }
          ],
          "pie": [
           {
            "automargin": true,
            "type": "pie"
           }
          ],
          "scatter": [
           {
            "fillpattern": {
             "fillmode": "overlay",
             "size": 10,
             "solidity": 0.2
            },
            "type": "scatter"
           }
          ],
          "scatter3d": [
           {
            "line": {
             "colorbar": {
              "outlinewidth": 0,
              "ticks": ""
             }
            },
            "marker": {
             "colorbar": {
              "outlinewidth": 0,
              "ticks": ""
             }
            },
            "type": "scatter3d"
           }
          ],
          "scattercarpet": [
           {
            "marker": {
             "colorbar": {
              "outlinewidth": 0,
              "ticks": ""
             }
            },
            "type": "scattercarpet"
           }
          ],
          "scattergeo": [
           {
            "marker": {
             "colorbar": {
              "outlinewidth": 0,
              "ticks": ""
             }
            },
            "type": "scattergeo"
           }
          ],
          "scattergl": [
           {
            "marker": {
             "colorbar": {
              "outlinewidth": 0,
              "ticks": ""
             }
            },
            "type": "scattergl"
           }
          ],
          "scattermapbox": [
           {
            "marker": {
             "colorbar": {
              "outlinewidth": 0,
              "ticks": ""
             }
            },
            "type": "scattermapbox"
           }
          ],
          "scatterpolar": [
           {
            "marker": {
             "colorbar": {
              "outlinewidth": 0,
              "ticks": ""
             }
            },
            "type": "scatterpolar"
           }
          ],
          "scatterpolargl": [
           {
            "marker": {
             "colorbar": {
              "outlinewidth": 0,
              "ticks": ""
             }
            },
            "type": "scatterpolargl"
           }
          ],
          "scatterternary": [
           {
            "marker": {
             "colorbar": {
              "outlinewidth": 0,
              "ticks": ""
             }
            },
            "type": "scatterternary"
           }
          ],
          "surface": [
           {
            "colorbar": {
             "outlinewidth": 0,
             "ticks": ""
            },
            "colorscale": [
             [
              0,
              "#0d0887"
             ],
             [
              0.1111111111111111,
              "#46039f"
             ],
             [
              0.2222222222222222,
              "#7201a8"
             ],
             [
              0.3333333333333333,
              "#9c179e"
             ],
             [
              0.4444444444444444,
              "#bd3786"
             ],
             [
              0.5555555555555556,
              "#d8576b"
             ],
             [
              0.6666666666666666,
              "#ed7953"
             ],
             [
              0.7777777777777778,
              "#fb9f3a"
             ],
             [
              0.8888888888888888,
              "#fdca26"
             ],
             [
              1,
              "#f0f921"
             ]
            ],
            "type": "surface"
           }
          ],
          "table": [
           {
            "cells": {
             "fill": {
              "color": "#EBF0F8"
             },
             "line": {
              "color": "white"
             }
            },
            "header": {
             "fill": {
              "color": "#C8D4E3"
             },
             "line": {
              "color": "white"
             }
            },
            "type": "table"
           }
          ]
         },
         "layout": {
          "annotationdefaults": {
           "arrowcolor": "#2a3f5f",
           "arrowhead": 0,
           "arrowwidth": 1
          },
          "autotypenumbers": "strict",
          "coloraxis": {
           "colorbar": {
            "outlinewidth": 0,
            "ticks": ""
           }
          },
          "colorscale": {
           "diverging": [
            [
             0,
             "#8e0152"
            ],
            [
             0.1,
             "#c51b7d"
            ],
            [
             0.2,
             "#de77ae"
            ],
            [
             0.3,
             "#f1b6da"
            ],
            [
             0.4,
             "#fde0ef"
            ],
            [
             0.5,
             "#f7f7f7"
            ],
            [
             0.6,
             "#e6f5d0"
            ],
            [
             0.7,
             "#b8e186"
            ],
            [
             0.8,
             "#7fbc41"
            ],
            [
             0.9,
             "#4d9221"
            ],
            [
             1,
             "#276419"
            ]
           ],
           "sequential": [
            [
             0,
             "#0d0887"
            ],
            [
             0.1111111111111111,
             "#46039f"
            ],
            [
             0.2222222222222222,
             "#7201a8"
            ],
            [
             0.3333333333333333,
             "#9c179e"
            ],
            [
             0.4444444444444444,
             "#bd3786"
            ],
            [
             0.5555555555555556,
             "#d8576b"
            ],
            [
             0.6666666666666666,
             "#ed7953"
            ],
            [
             0.7777777777777778,
             "#fb9f3a"
            ],
            [
             0.8888888888888888,
             "#fdca26"
            ],
            [
             1,
             "#f0f921"
            ]
           ],
           "sequentialminus": [
            [
             0,
             "#0d0887"
            ],
            [
             0.1111111111111111,
             "#46039f"
            ],
            [
             0.2222222222222222,
             "#7201a8"
            ],
            [
             0.3333333333333333,
             "#9c179e"
            ],
            [
             0.4444444444444444,
             "#bd3786"
            ],
            [
             0.5555555555555556,
             "#d8576b"
            ],
            [
             0.6666666666666666,
             "#ed7953"
            ],
            [
             0.7777777777777778,
             "#fb9f3a"
            ],
            [
             0.8888888888888888,
             "#fdca26"
            ],
            [
             1,
             "#f0f921"
            ]
           ]
          },
          "colorway": [
           "#636efa",
           "#EF553B",
           "#00cc96",
           "#ab63fa",
           "#FFA15A",
           "#19d3f3",
           "#FF6692",
           "#B6E880",
           "#FF97FF",
           "#FECB52"
          ],
          "font": {
           "color": "#2a3f5f"
          },
          "geo": {
           "bgcolor": "white",
           "lakecolor": "white",
           "landcolor": "white",
           "showlakes": true,
           "showland": true,
           "subunitcolor": "#C8D4E3"
          },
          "hoverlabel": {
           "align": "left"
          },
          "hovermode": "closest",
          "mapbox": {
           "style": "light"
          },
          "paper_bgcolor": "white",
          "plot_bgcolor": "white",
          "polar": {
           "angularaxis": {
            "gridcolor": "#EBF0F8",
            "linecolor": "#EBF0F8",
            "ticks": ""
           },
           "bgcolor": "white",
           "radialaxis": {
            "gridcolor": "#EBF0F8",
            "linecolor": "#EBF0F8",
            "ticks": ""
           }
          },
          "scene": {
           "xaxis": {
            "backgroundcolor": "white",
            "gridcolor": "#DFE8F3",
            "gridwidth": 2,
            "linecolor": "#EBF0F8",
            "showbackground": true,
            "ticks": "",
            "zerolinecolor": "#EBF0F8"
           },
           "yaxis": {
            "backgroundcolor": "white",
            "gridcolor": "#DFE8F3",
            "gridwidth": 2,
            "linecolor": "#EBF0F8",
            "showbackground": true,
            "ticks": "",
            "zerolinecolor": "#EBF0F8"
           },
           "zaxis": {
            "backgroundcolor": "white",
            "gridcolor": "#DFE8F3",
            "gridwidth": 2,
            "linecolor": "#EBF0F8",
            "showbackground": true,
            "ticks": "",
            "zerolinecolor": "#EBF0F8"
           }
          },
          "shapedefaults": {
           "line": {
            "color": "#2a3f5f"
           }
          },
          "ternary": {
           "aaxis": {
            "gridcolor": "#DFE8F3",
            "linecolor": "#A2B1C6",
            "ticks": ""
           },
           "baxis": {
            "gridcolor": "#DFE8F3",
            "linecolor": "#A2B1C6",
            "ticks": ""
           },
           "bgcolor": "white",
           "caxis": {
            "gridcolor": "#DFE8F3",
            "linecolor": "#A2B1C6",
            "ticks": ""
           }
          },
          "title": {
           "x": 0.05
          },
          "xaxis": {
           "automargin": true,
           "gridcolor": "#EBF0F8",
           "linecolor": "#EBF0F8",
           "ticks": "",
           "title": {
            "standoff": 15
           },
           "zerolinecolor": "#EBF0F8",
           "zerolinewidth": 2
          },
          "yaxis": {
           "automargin": true,
           "gridcolor": "#EBF0F8",
           "linecolor": "#EBF0F8",
           "ticks": "",
           "title": {
            "standoff": 15
           },
           "zerolinecolor": "#EBF0F8",
           "zerolinewidth": 2
          }
         }
        },
        "title": {
         "font": {
          "color": "Black",
          "size": 22
         },
         "text": "Topic Word Scores",
         "x": 0.5,
         "xanchor": "center",
         "yanchor": "top"
        },
        "width": 1000,
        "xaxis": {
         "anchor": "y",
         "domain": [
          0,
          0.175
         ],
         "showgrid": true
        },
        "xaxis2": {
         "anchor": "y2",
         "domain": [
          0.275,
          0.45
         ],
         "showgrid": true
        },
        "xaxis3": {
         "anchor": "y3",
         "domain": [
          0.55,
          0.7250000000000001
         ],
         "showgrid": true
        },
        "xaxis4": {
         "anchor": "y4",
         "domain": [
          0.825,
          1
         ],
         "showgrid": true
        },
        "xaxis5": {
         "anchor": "y5",
         "domain": [
          0,
          0.175
         ],
         "showgrid": true
        },
        "xaxis6": {
         "anchor": "y6",
         "domain": [
          0.275,
          0.45
         ],
         "showgrid": true
        },
        "xaxis7": {
         "anchor": "y7",
         "domain": [
          0.55,
          0.7250000000000001
         ],
         "showgrid": true
        },
        "xaxis8": {
         "anchor": "y8",
         "domain": [
          0.825,
          1
         ],
         "showgrid": true
        },
        "yaxis": {
         "anchor": "x",
         "domain": [
          0.6000000000000001,
          1
         ],
         "showgrid": true
        },
        "yaxis2": {
         "anchor": "x2",
         "domain": [
          0.6000000000000001,
          1
         ],
         "showgrid": true
        },
        "yaxis3": {
         "anchor": "x3",
         "domain": [
          0.6000000000000001,
          1
         ],
         "showgrid": true
        },
        "yaxis4": {
         "anchor": "x4",
         "domain": [
          0.6000000000000001,
          1
         ],
         "showgrid": true
        },
        "yaxis5": {
         "anchor": "x5",
         "domain": [
          0,
          0.4
         ],
         "showgrid": true
        },
        "yaxis6": {
         "anchor": "x6",
         "domain": [
          0,
          0.4
         ],
         "showgrid": true
        },
        "yaxis7": {
         "anchor": "x7",
         "domain": [
          0,
          0.4
         ],
         "showgrid": true
        },
        "yaxis8": {
         "anchor": "x8",
         "domain": [
          0,
          0.4
         ],
         "showgrid": true
        }
       }
      }
     },
     "metadata": {},
     "output_type": "display_data"
    }
   ],
   "source": [
    "topic_model.visualize_barchart()\n"
   ]
  },
  {
   "cell_type": "code",
   "execution_count": 39,
   "metadata": {},
   "outputs": [
    {
     "name": "stderr",
     "output_type": "stream",
     "text": [
      "100%|██████████| 35/35 [00:00<00:00, 55.60it/s]\n"
     ]
    }
   ],
   "source": [
    "topic_distr, _ = topic_model.approximate_distribution(data['content'], window=8, stride=4)\n"
   ]
  },
  {
   "cell_type": "code",
   "execution_count": 43,
   "metadata": {},
   "outputs": [
    {
     "data": {
      "application/vnd.plotly.v1+json": {
       "config": {
        "plotlyServerURL": "https://plot.ly"
       },
       "data": [
        {
         "hoverinfo": "text",
         "marker": {
          "color": "rgb(61,153,112)"
         },
         "mode": "lines",
         "type": "scatter",
         "x": [
          0,
          0.24640095124750527,
          0.24640095124750527,
          0
         ],
         "xaxis": "x",
         "y": [
          -5,
          -5,
          -15,
          -15
         ],
         "yaxis": "y"
        },
        {
         "hoverinfo": "text",
         "marker": {
          "color": "rgb(255,65,54)"
         },
         "mode": "lines",
         "type": "scatter",
         "x": [
          0,
          0.8487112656267577,
          0.8487112656267577,
          0
         ],
         "xaxis": "x",
         "y": [
          -25,
          -25,
          -35,
          -35
         ],
         "yaxis": "y"
        },
        {
         "hoverinfo": "text",
         "marker": {
          "color": "rgb(35,205,205)"
         },
         "mode": "lines",
         "type": "scatter",
         "x": [
          0,
          0.9974059957056235,
          0.9974059957056235,
          0
         ],
         "xaxis": "x",
         "y": [
          -45,
          -45,
          -55,
          -55
         ],
         "yaxis": "y"
        },
        {
         "hoverinfo": "text",
         "marker": {
          "color": "rgb(0,116,217)"
         },
         "mode": "lines",
         "type": "scatter",
         "x": [
          0.9974059957056235,
          1.0005273923138331,
          1.0005273923138331,
          0
         ],
         "xaxis": "x",
         "y": [
          -50,
          -50,
          -65,
          -65
         ],
         "yaxis": "y"
        },
        {
         "hoverinfo": "text",
         "marker": {
          "color": "rgb(133,20,75)"
         },
         "mode": "lines",
         "type": "scatter",
         "x": [
          0,
          0.9278679152121235,
          0.9278679152121235,
          0
         ],
         "xaxis": "x",
         "y": [
          -75,
          -75,
          -85,
          -85
         ],
         "yaxis": "y"
        },
        {
         "hoverinfo": "text",
         "marker": {
          "color": "rgb(0,116,217)"
         },
         "mode": "lines",
         "type": "scatter",
         "x": [
          1.0005273923138331,
          1.0339836731469798,
          1.0339836731469798,
          0.9278679152121235
         ],
         "xaxis": "x",
         "y": [
          -57.5,
          -57.5,
          -80,
          -80
         ],
         "yaxis": "y"
        },
        {
         "hoverinfo": "text",
         "marker": {
          "color": "rgb(0,116,217)"
         },
         "mode": "lines",
         "type": "scatter",
         "x": [
          0.8487112656267577,
          1.0842946246191787,
          1.0842946246191787,
          1.0339836731469798
         ],
         "xaxis": "x",
         "y": [
          -30,
          -30,
          -68.75,
          -68.75
         ],
         "yaxis": "y"
        },
        {
         "hoverinfo": "text",
         "marker": {
          "color": "rgb(255,220,0)"
         },
         "mode": "lines",
         "type": "scatter",
         "x": [
          0,
          0.5046200478249766,
          0.5046200478249766,
          0
         ],
         "xaxis": "x",
         "y": [
          -95,
          -95,
          -105,
          -105
         ],
         "yaxis": "y"
        },
        {
         "hoverinfo": "text",
         "marker": {
          "color": "rgb(0,116,217)"
         },
         "mode": "lines",
         "type": "scatter",
         "x": [
          1.0842946246191787,
          1.1442167390438929,
          1.1442167390438929,
          0.5046200478249766
         ],
         "xaxis": "x",
         "y": [
          -49.375,
          -49.375,
          -100,
          -100
         ],
         "yaxis": "y"
        },
        {
         "hoverinfo": "text",
         "marker": {
          "color": "rgb(40,35,35)"
         },
         "mode": "lines",
         "type": "scatter",
         "x": [
          0,
          0.5842319859271312,
          0.5842319859271312,
          0
         ],
         "xaxis": "x",
         "y": [
          -115,
          -115,
          -125,
          -125
         ],
         "yaxis": "y"
        },
        {
         "hoverinfo": "text",
         "marker": {
          "color": "rgb(0,116,217)"
         },
         "mode": "lines",
         "type": "scatter",
         "x": [
          1.1442167390438929,
          1.248454932989955,
          1.248454932989955,
          0.5842319859271312
         ],
         "xaxis": "x",
         "y": [
          -74.6875,
          -74.6875,
          -120,
          -120
         ],
         "yaxis": "y"
        },
        {
         "hoverinfo": "text",
         "marker": {
          "color": "rgb(0,116,217)"
         },
         "mode": "lines",
         "type": "scatter",
         "x": [
          0.24640095124750527,
          1.3505181687426804,
          1.3505181687426804,
          1.248454932989955
         ],
         "xaxis": "x",
         "y": [
          -10,
          -10,
          -97.34375,
          -97.34375
         ],
         "yaxis": "y"
        }
       ],
       "layout": {
        "autosize": false,
        "height": 395,
        "hoverlabel": {
         "bgcolor": "white",
         "font": {
          "family": "Rockwell",
          "size": 16
         }
        },
        "hovermode": "closest",
        "plot_bgcolor": "#ECEFF1",
        "showlegend": false,
        "template": {
         "data": {
          "bar": [
           {
            "error_x": {
             "color": "#2a3f5f"
            },
            "error_y": {
             "color": "#2a3f5f"
            },
            "marker": {
             "line": {
              "color": "white",
              "width": 0.5
             },
             "pattern": {
              "fillmode": "overlay",
              "size": 10,
              "solidity": 0.2
             }
            },
            "type": "bar"
           }
          ],
          "barpolar": [
           {
            "marker": {
             "line": {
              "color": "white",
              "width": 0.5
             },
             "pattern": {
              "fillmode": "overlay",
              "size": 10,
              "solidity": 0.2
             }
            },
            "type": "barpolar"
           }
          ],
          "carpet": [
           {
            "aaxis": {
             "endlinecolor": "#2a3f5f",
             "gridcolor": "#C8D4E3",
             "linecolor": "#C8D4E3",
             "minorgridcolor": "#C8D4E3",
             "startlinecolor": "#2a3f5f"
            },
            "baxis": {
             "endlinecolor": "#2a3f5f",
             "gridcolor": "#C8D4E3",
             "linecolor": "#C8D4E3",
             "minorgridcolor": "#C8D4E3",
             "startlinecolor": "#2a3f5f"
            },
            "type": "carpet"
           }
          ],
          "choropleth": [
           {
            "colorbar": {
             "outlinewidth": 0,
             "ticks": ""
            },
            "type": "choropleth"
           }
          ],
          "contour": [
           {
            "colorbar": {
             "outlinewidth": 0,
             "ticks": ""
            },
            "colorscale": [
             [
              0,
              "#0d0887"
             ],
             [
              0.1111111111111111,
              "#46039f"
             ],
             [
              0.2222222222222222,
              "#7201a8"
             ],
             [
              0.3333333333333333,
              "#9c179e"
             ],
             [
              0.4444444444444444,
              "#bd3786"
             ],
             [
              0.5555555555555556,
              "#d8576b"
             ],
             [
              0.6666666666666666,
              "#ed7953"
             ],
             [
              0.7777777777777778,
              "#fb9f3a"
             ],
             [
              0.8888888888888888,
              "#fdca26"
             ],
             [
              1,
              "#f0f921"
             ]
            ],
            "type": "contour"
           }
          ],
          "contourcarpet": [
           {
            "colorbar": {
             "outlinewidth": 0,
             "ticks": ""
            },
            "type": "contourcarpet"
           }
          ],
          "heatmap": [
           {
            "colorbar": {
             "outlinewidth": 0,
             "ticks": ""
            },
            "colorscale": [
             [
              0,
              "#0d0887"
             ],
             [
              0.1111111111111111,
              "#46039f"
             ],
             [
              0.2222222222222222,
              "#7201a8"
             ],
             [
              0.3333333333333333,
              "#9c179e"
             ],
             [
              0.4444444444444444,
              "#bd3786"
             ],
             [
              0.5555555555555556,
              "#d8576b"
             ],
             [
              0.6666666666666666,
              "#ed7953"
             ],
             [
              0.7777777777777778,
              "#fb9f3a"
             ],
             [
              0.8888888888888888,
              "#fdca26"
             ],
             [
              1,
              "#f0f921"
             ]
            ],
            "type": "heatmap"
           }
          ],
          "heatmapgl": [
           {
            "colorbar": {
             "outlinewidth": 0,
             "ticks": ""
            },
            "colorscale": [
             [
              0,
              "#0d0887"
             ],
             [
              0.1111111111111111,
              "#46039f"
             ],
             [
              0.2222222222222222,
              "#7201a8"
             ],
             [
              0.3333333333333333,
              "#9c179e"
             ],
             [
              0.4444444444444444,
              "#bd3786"
             ],
             [
              0.5555555555555556,
              "#d8576b"
             ],
             [
              0.6666666666666666,
              "#ed7953"
             ],
             [
              0.7777777777777778,
              "#fb9f3a"
             ],
             [
              0.8888888888888888,
              "#fdca26"
             ],
             [
              1,
              "#f0f921"
             ]
            ],
            "type": "heatmapgl"
           }
          ],
          "histogram": [
           {
            "marker": {
             "pattern": {
              "fillmode": "overlay",
              "size": 10,
              "solidity": 0.2
             }
            },
            "type": "histogram"
           }
          ],
          "histogram2d": [
           {
            "colorbar": {
             "outlinewidth": 0,
             "ticks": ""
            },
            "colorscale": [
             [
              0,
              "#0d0887"
             ],
             [
              0.1111111111111111,
              "#46039f"
             ],
             [
              0.2222222222222222,
              "#7201a8"
             ],
             [
              0.3333333333333333,
              "#9c179e"
             ],
             [
              0.4444444444444444,
              "#bd3786"
             ],
             [
              0.5555555555555556,
              "#d8576b"
             ],
             [
              0.6666666666666666,
              "#ed7953"
             ],
             [
              0.7777777777777778,
              "#fb9f3a"
             ],
             [
              0.8888888888888888,
              "#fdca26"
             ],
             [
              1,
              "#f0f921"
             ]
            ],
            "type": "histogram2d"
           }
          ],
          "histogram2dcontour": [
           {
            "colorbar": {
             "outlinewidth": 0,
             "ticks": ""
            },
            "colorscale": [
             [
              0,
              "#0d0887"
             ],
             [
              0.1111111111111111,
              "#46039f"
             ],
             [
              0.2222222222222222,
              "#7201a8"
             ],
             [
              0.3333333333333333,
              "#9c179e"
             ],
             [
              0.4444444444444444,
              "#bd3786"
             ],
             [
              0.5555555555555556,
              "#d8576b"
             ],
             [
              0.6666666666666666,
              "#ed7953"
             ],
             [
              0.7777777777777778,
              "#fb9f3a"
             ],
             [
              0.8888888888888888,
              "#fdca26"
             ],
             [
              1,
              "#f0f921"
             ]
            ],
            "type": "histogram2dcontour"
           }
          ],
          "mesh3d": [
           {
            "colorbar": {
             "outlinewidth": 0,
             "ticks": ""
            },
            "type": "mesh3d"
           }
          ],
          "parcoords": [
           {
            "line": {
             "colorbar": {
              "outlinewidth": 0,
              "ticks": ""
             }
            },
            "type": "parcoords"
           }
          ],
          "pie": [
           {
            "automargin": true,
            "type": "pie"
           }
          ],
          "scatter": [
           {
            "fillpattern": {
             "fillmode": "overlay",
             "size": 10,
             "solidity": 0.2
            },
            "type": "scatter"
           }
          ],
          "scatter3d": [
           {
            "line": {
             "colorbar": {
              "outlinewidth": 0,
              "ticks": ""
             }
            },
            "marker": {
             "colorbar": {
              "outlinewidth": 0,
              "ticks": ""
             }
            },
            "type": "scatter3d"
           }
          ],
          "scattercarpet": [
           {
            "marker": {
             "colorbar": {
              "outlinewidth": 0,
              "ticks": ""
             }
            },
            "type": "scattercarpet"
           }
          ],
          "scattergeo": [
           {
            "marker": {
             "colorbar": {
              "outlinewidth": 0,
              "ticks": ""
             }
            },
            "type": "scattergeo"
           }
          ],
          "scattergl": [
           {
            "marker": {
             "colorbar": {
              "outlinewidth": 0,
              "ticks": ""
             }
            },
            "type": "scattergl"
           }
          ],
          "scattermapbox": [
           {
            "marker": {
             "colorbar": {
              "outlinewidth": 0,
              "ticks": ""
             }
            },
            "type": "scattermapbox"
           }
          ],
          "scatterpolar": [
           {
            "marker": {
             "colorbar": {
              "outlinewidth": 0,
              "ticks": ""
             }
            },
            "type": "scatterpolar"
           }
          ],
          "scatterpolargl": [
           {
            "marker": {
             "colorbar": {
              "outlinewidth": 0,
              "ticks": ""
             }
            },
            "type": "scatterpolargl"
           }
          ],
          "scatterternary": [
           {
            "marker": {
             "colorbar": {
              "outlinewidth": 0,
              "ticks": ""
             }
            },
            "type": "scatterternary"
           }
          ],
          "surface": [
           {
            "colorbar": {
             "outlinewidth": 0,
             "ticks": ""
            },
            "colorscale": [
             [
              0,
              "#0d0887"
             ],
             [
              0.1111111111111111,
              "#46039f"
             ],
             [
              0.2222222222222222,
              "#7201a8"
             ],
             [
              0.3333333333333333,
              "#9c179e"
             ],
             [
              0.4444444444444444,
              "#bd3786"
             ],
             [
              0.5555555555555556,
              "#d8576b"
             ],
             [
              0.6666666666666666,
              "#ed7953"
             ],
             [
              0.7777777777777778,
              "#fb9f3a"
             ],
             [
              0.8888888888888888,
              "#fdca26"
             ],
             [
              1,
              "#f0f921"
             ]
            ],
            "type": "surface"
           }
          ],
          "table": [
           {
            "cells": {
             "fill": {
              "color": "#EBF0F8"
             },
             "line": {
              "color": "white"
             }
            },
            "header": {
             "fill": {
              "color": "#C8D4E3"
             },
             "line": {
              "color": "white"
             }
            },
            "type": "table"
           }
          ]
         },
         "layout": {
          "annotationdefaults": {
           "arrowcolor": "#2a3f5f",
           "arrowhead": 0,
           "arrowwidth": 1
          },
          "autotypenumbers": "strict",
          "coloraxis": {
           "colorbar": {
            "outlinewidth": 0,
            "ticks": ""
           }
          },
          "colorscale": {
           "diverging": [
            [
             0,
             "#8e0152"
            ],
            [
             0.1,
             "#c51b7d"
            ],
            [
             0.2,
             "#de77ae"
            ],
            [
             0.3,
             "#f1b6da"
            ],
            [
             0.4,
             "#fde0ef"
            ],
            [
             0.5,
             "#f7f7f7"
            ],
            [
             0.6,
             "#e6f5d0"
            ],
            [
             0.7,
             "#b8e186"
            ],
            [
             0.8,
             "#7fbc41"
            ],
            [
             0.9,
             "#4d9221"
            ],
            [
             1,
             "#276419"
            ]
           ],
           "sequential": [
            [
             0,
             "#0d0887"
            ],
            [
             0.1111111111111111,
             "#46039f"
            ],
            [
             0.2222222222222222,
             "#7201a8"
            ],
            [
             0.3333333333333333,
             "#9c179e"
            ],
            [
             0.4444444444444444,
             "#bd3786"
            ],
            [
             0.5555555555555556,
             "#d8576b"
            ],
            [
             0.6666666666666666,
             "#ed7953"
            ],
            [
             0.7777777777777778,
             "#fb9f3a"
            ],
            [
             0.8888888888888888,
             "#fdca26"
            ],
            [
             1,
             "#f0f921"
            ]
           ],
           "sequentialminus": [
            [
             0,
             "#0d0887"
            ],
            [
             0.1111111111111111,
             "#46039f"
            ],
            [
             0.2222222222222222,
             "#7201a8"
            ],
            [
             0.3333333333333333,
             "#9c179e"
            ],
            [
             0.4444444444444444,
             "#bd3786"
            ],
            [
             0.5555555555555556,
             "#d8576b"
            ],
            [
             0.6666666666666666,
             "#ed7953"
            ],
            [
             0.7777777777777778,
             "#fb9f3a"
            ],
            [
             0.8888888888888888,
             "#fdca26"
            ],
            [
             1,
             "#f0f921"
            ]
           ]
          },
          "colorway": [
           "#636efa",
           "#EF553B",
           "#00cc96",
           "#ab63fa",
           "#FFA15A",
           "#19d3f3",
           "#FF6692",
           "#B6E880",
           "#FF97FF",
           "#FECB52"
          ],
          "font": {
           "color": "#2a3f5f"
          },
          "geo": {
           "bgcolor": "white",
           "lakecolor": "white",
           "landcolor": "white",
           "showlakes": true,
           "showland": true,
           "subunitcolor": "#C8D4E3"
          },
          "hoverlabel": {
           "align": "left"
          },
          "hovermode": "closest",
          "mapbox": {
           "style": "light"
          },
          "paper_bgcolor": "white",
          "plot_bgcolor": "white",
          "polar": {
           "angularaxis": {
            "gridcolor": "#EBF0F8",
            "linecolor": "#EBF0F8",
            "ticks": ""
           },
           "bgcolor": "white",
           "radialaxis": {
            "gridcolor": "#EBF0F8",
            "linecolor": "#EBF0F8",
            "ticks": ""
           }
          },
          "scene": {
           "xaxis": {
            "backgroundcolor": "white",
            "gridcolor": "#DFE8F3",
            "gridwidth": 2,
            "linecolor": "#EBF0F8",
            "showbackground": true,
            "ticks": "",
            "zerolinecolor": "#EBF0F8"
           },
           "yaxis": {
            "backgroundcolor": "white",
            "gridcolor": "#DFE8F3",
            "gridwidth": 2,
            "linecolor": "#EBF0F8",
            "showbackground": true,
            "ticks": "",
            "zerolinecolor": "#EBF0F8"
           },
           "zaxis": {
            "backgroundcolor": "white",
            "gridcolor": "#DFE8F3",
            "gridwidth": 2,
            "linecolor": "#EBF0F8",
            "showbackground": true,
            "ticks": "",
            "zerolinecolor": "#EBF0F8"
           }
          },
          "shapedefaults": {
           "line": {
            "color": "#2a3f5f"
           }
          },
          "ternary": {
           "aaxis": {
            "gridcolor": "#DFE8F3",
            "linecolor": "#A2B1C6",
            "ticks": ""
           },
           "baxis": {
            "gridcolor": "#DFE8F3",
            "linecolor": "#A2B1C6",
            "ticks": ""
           },
           "bgcolor": "white",
           "caxis": {
            "gridcolor": "#DFE8F3",
            "linecolor": "#A2B1C6",
            "ticks": ""
           }
          },
          "title": {
           "x": 0.05
          },
          "xaxis": {
           "automargin": true,
           "gridcolor": "#EBF0F8",
           "linecolor": "#EBF0F8",
           "ticks": "",
           "title": {
            "standoff": 15
           },
           "zerolinecolor": "#EBF0F8",
           "zerolinewidth": 2
          },
          "yaxis": {
           "automargin": true,
           "gridcolor": "#EBF0F8",
           "linecolor": "#EBF0F8",
           "ticks": "",
           "title": {
            "standoff": 15
           },
           "zerolinecolor": "#EBF0F8",
           "zerolinewidth": 2
          }
         }
        },
        "title": {
         "font": {
          "color": "Black",
          "size": 22
         },
         "text": "<b>Hierarchical Clustering</b>",
         "x": 0.5,
         "xanchor": "center",
         "yanchor": "top"
        },
        "width": 1000,
        "xaxis": {
         "mirror": "allticks",
         "rangemode": "tozero",
         "showgrid": false,
         "showline": true,
         "showticklabels": true,
         "ticks": "outside",
         "type": "linear",
         "zeroline": false
        },
        "yaxis": {
         "mirror": "allticks",
         "range": [
          -130,
          0
         ],
         "rangemode": "tozero",
         "showgrid": false,
         "showline": true,
         "showticklabels": true,
         "tickmode": "array",
         "ticks": "outside",
         "ticktext": [
          "4_自费_免疫药_关心",
          "12_自费_免疫_靶向药",
          "6_不配_活_干部",
          "1_铺展_上班_级别",
          "7_害怕_假_真",
          "10_复诊_明天_抽",
          "11_引流_美国人_日本",
          "2_解决_质量_集采",
          "3_抵达_边缘_这下",
          "0_集采_药_药品",
          "8_阿司匹林_企业_实验",
          "9_胶囊_洋抖_在意",
          "5_无聊_特么_洋抖"
         ],
         "tickvals": [
          -5,
          -15,
          -25,
          -35,
          -45,
          -55,
          -65,
          -75,
          -85,
          -95,
          -105,
          -115,
          -125
         ],
         "type": "linear",
         "zeroline": false
        }
       }
      }
     },
     "metadata": {},
     "output_type": "display_data"
    }
   ],
   "source": [
    "topic_model.visualize_hierarchy(custom_labels=True)"
   ]
  }
 ],
 "metadata": {
  "kernelspec": {
   "display_name": "base",
   "language": "python",
   "name": "python3"
  },
  "language_info": {
   "codemirror_mode": {
    "name": "ipython",
    "version": 3
   },
   "file_extension": ".py",
   "mimetype": "text/x-python",
   "name": "python",
   "nbconvert_exporter": "python",
   "pygments_lexer": "ipython3",
   "version": "3.12.7"
  }
 },
 "nbformat": 4,
 "nbformat_minor": 2
}
